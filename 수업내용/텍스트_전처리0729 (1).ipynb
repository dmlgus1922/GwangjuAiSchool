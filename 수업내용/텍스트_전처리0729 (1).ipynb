{
  "nbformat": 4,
  "nbformat_minor": 0,
  "metadata": {
    "colab": {
      "name": "텍스트 전처리0729.ipynb",
      "provenance": [],
      "collapsed_sections": []
    },
    "kernelspec": {
      "name": "python3",
      "display_name": "Python 3"
    },
    "language_info": {
      "name": "python"
    }
  },
  "cells": [
    {
      "cell_type": "code",
      "source": [
        "! pip install kss konlpy"
      ],
      "metadata": {
        "colab": {
          "base_uri": "https://localhost:8080/"
        },
        "id": "3dExRg7Ntrag",
        "outputId": "6d2a583b-5c37-4d12-e0ad-9ab70a06a9bb"
      },
      "execution_count": 1,
      "outputs": [
        {
          "output_type": "stream",
          "name": "stdout",
          "text": [
            "Looking in indexes: https://pypi.org/simple, https://us-python.pkg.dev/colab-wheels/public/simple/\n",
            "Collecting kss\n",
            "  Downloading kss-3.4.3.tar.gz (42.4 MB)\n",
            "\u001b[K     |████████████████████████████████| 42.4 MB 1.1 MB/s \n",
            "\u001b[?25hCollecting konlpy\n",
            "  Downloading konlpy-0.6.0-py2.py3-none-any.whl (19.4 MB)\n",
            "\u001b[K     |████████████████████████████████| 19.4 MB 472 kB/s \n",
            "\u001b[?25hCollecting emoji==1.2.0\n",
            "  Downloading emoji-1.2.0-py3-none-any.whl (131 kB)\n",
            "\u001b[K     |████████████████████████████████| 131 kB 52.5 MB/s \n",
            "\u001b[?25hRequirement already satisfied: regex in /usr/local/lib/python3.7/dist-packages (from kss) (2022.6.2)\n",
            "Requirement already satisfied: more_itertools in /usr/local/lib/python3.7/dist-packages (from kss) (8.13.0)\n",
            "Requirement already satisfied: numpy>=1.6 in /usr/local/lib/python3.7/dist-packages (from konlpy) (1.21.6)\n",
            "Requirement already satisfied: lxml>=4.1.0 in /usr/local/lib/python3.7/dist-packages (from konlpy) (4.2.6)\n",
            "Collecting JPype1>=0.7.0\n",
            "  Downloading JPype1-1.4.0-cp37-cp37m-manylinux_2_5_x86_64.manylinux1_x86_64.whl (453 kB)\n",
            "\u001b[K     |████████████████████████████████| 453 kB 34.8 MB/s \n",
            "\u001b[?25hRequirement already satisfied: typing-extensions in /usr/local/lib/python3.7/dist-packages (from JPype1>=0.7.0->konlpy) (4.1.1)\n",
            "Building wheels for collected packages: kss\n",
            "  Building wheel for kss (setup.py) ... \u001b[?25l\u001b[?25hdone\n",
            "  Created wheel for kss: filename=kss-3.4.3-py3-none-any.whl size=42448068 sha256=d20502482ae5443295f561b78c9820b1c482905bc283c3e10cca3d2c65b3331e\n",
            "  Stored in directory: /root/.cache/pip/wheels/10/df/7d/0d0a58843aa7d267687671cf57274080bcfe8f79d59ed8f399\n",
            "Successfully built kss\n",
            "Installing collected packages: JPype1, emoji, kss, konlpy\n",
            "Successfully installed JPype1-1.4.0 emoji-1.2.0 konlpy-0.6.0 kss-3.4.3\n"
          ]
        }
      ]
    },
    {
      "cell_type": "code",
      "source": [
        "from tensorflow import keras\n",
        "(x_train, _), _ = keras.datasets.imdb.load_data()\n",
        "word_index = keras.datasets.imdb.get_word_index()\n",
        "inverted_word_index = dict((i, word) for (word, i) in word_index.items())\n",
        "decoded_sequence = \" \".join(inverted_word_index[i] for i in x_train[0])\n",
        "decoded_sequence,x_train[0]"
      ],
      "metadata": {
        "colab": {
          "base_uri": "https://localhost:8080/"
        },
        "id": "koc8ZszZvhye",
        "outputId": "ff04e4f3-210c-42cc-d58b-b839f86a3262"
      },
      "execution_count": 5,
      "outputs": [
        {
          "output_type": "stream",
          "name": "stdout",
          "text": [
            "Downloading data from https://storage.googleapis.com/tensorflow/tf-keras-datasets/imdb.npz\n",
            "17465344/17464789 [==============================] - 0s 0us/step\n",
            "17473536/17464789 [==============================] - 0s 0us/step\n",
            "Downloading data from https://storage.googleapis.com/tensorflow/tf-keras-datasets/imdb_word_index.json\n",
            "1646592/1641221 [==============================] - 0s 0us/step\n",
            "1654784/1641221 [==============================] - 0s 0us/step\n"
          ]
        },
        {
          "output_type": "execute_result",
          "data": {
            "text/plain": [
              "(\"the as you with out themselves powerful lets loves their becomes reaching had journalist of lot from anyone to have after out atmosphere never more room titillate it so heart shows to years of every never going villaronga help moments or of every chest visual movie except her was several of enough more with is now current film as you of mine potentially unfortunately of you than him that with out themselves her get for was camp of you movie sometimes movie that with scary but pratfalls to story wonderful that in seeing in character to of 70s musicians with heart had shadows they of here that with her serious to have does when from why what have critics they is you that isn't one will very to as itself with other tricky in of seen over landed for anyone of gilmore's br show's to whether from than out themselves history he name half some br of 'n odd was two most of mean for 1 any an boat she he should is thought frog but of script you not while history he heart to real at barrel but when from one bit then have two of script their with her nobody most that with wasn't to with armed acting watch an for with heartfelt film want an\",\n",
              " [1,\n",
              "  14,\n",
              "  22,\n",
              "  16,\n",
              "  43,\n",
              "  530,\n",
              "  973,\n",
              "  1622,\n",
              "  1385,\n",
              "  65,\n",
              "  458,\n",
              "  4468,\n",
              "  66,\n",
              "  3941,\n",
              "  4,\n",
              "  173,\n",
              "  36,\n",
              "  256,\n",
              "  5,\n",
              "  25,\n",
              "  100,\n",
              "  43,\n",
              "  838,\n",
              "  112,\n",
              "  50,\n",
              "  670,\n",
              "  22665,\n",
              "  9,\n",
              "  35,\n",
              "  480,\n",
              "  284,\n",
              "  5,\n",
              "  150,\n",
              "  4,\n",
              "  172,\n",
              "  112,\n",
              "  167,\n",
              "  21631,\n",
              "  336,\n",
              "  385,\n",
              "  39,\n",
              "  4,\n",
              "  172,\n",
              "  4536,\n",
              "  1111,\n",
              "  17,\n",
              "  546,\n",
              "  38,\n",
              "  13,\n",
              "  447,\n",
              "  4,\n",
              "  192,\n",
              "  50,\n",
              "  16,\n",
              "  6,\n",
              "  147,\n",
              "  2025,\n",
              "  19,\n",
              "  14,\n",
              "  22,\n",
              "  4,\n",
              "  1920,\n",
              "  4613,\n",
              "  469,\n",
              "  4,\n",
              "  22,\n",
              "  71,\n",
              "  87,\n",
              "  12,\n",
              "  16,\n",
              "  43,\n",
              "  530,\n",
              "  38,\n",
              "  76,\n",
              "  15,\n",
              "  13,\n",
              "  1247,\n",
              "  4,\n",
              "  22,\n",
              "  17,\n",
              "  515,\n",
              "  17,\n",
              "  12,\n",
              "  16,\n",
              "  626,\n",
              "  18,\n",
              "  19193,\n",
              "  5,\n",
              "  62,\n",
              "  386,\n",
              "  12,\n",
              "  8,\n",
              "  316,\n",
              "  8,\n",
              "  106,\n",
              "  5,\n",
              "  4,\n",
              "  2223,\n",
              "  5244,\n",
              "  16,\n",
              "  480,\n",
              "  66,\n",
              "  3785,\n",
              "  33,\n",
              "  4,\n",
              "  130,\n",
              "  12,\n",
              "  16,\n",
              "  38,\n",
              "  619,\n",
              "  5,\n",
              "  25,\n",
              "  124,\n",
              "  51,\n",
              "  36,\n",
              "  135,\n",
              "  48,\n",
              "  25,\n",
              "  1415,\n",
              "  33,\n",
              "  6,\n",
              "  22,\n",
              "  12,\n",
              "  215,\n",
              "  28,\n",
              "  77,\n",
              "  52,\n",
              "  5,\n",
              "  14,\n",
              "  407,\n",
              "  16,\n",
              "  82,\n",
              "  10311,\n",
              "  8,\n",
              "  4,\n",
              "  107,\n",
              "  117,\n",
              "  5952,\n",
              "  15,\n",
              "  256,\n",
              "  4,\n",
              "  31050,\n",
              "  7,\n",
              "  3766,\n",
              "  5,\n",
              "  723,\n",
              "  36,\n",
              "  71,\n",
              "  43,\n",
              "  530,\n",
              "  476,\n",
              "  26,\n",
              "  400,\n",
              "  317,\n",
              "  46,\n",
              "  7,\n",
              "  4,\n",
              "  12118,\n",
              "  1029,\n",
              "  13,\n",
              "  104,\n",
              "  88,\n",
              "  4,\n",
              "  381,\n",
              "  15,\n",
              "  297,\n",
              "  98,\n",
              "  32,\n",
              "  2071,\n",
              "  56,\n",
              "  26,\n",
              "  141,\n",
              "  6,\n",
              "  194,\n",
              "  7486,\n",
              "  18,\n",
              "  4,\n",
              "  226,\n",
              "  22,\n",
              "  21,\n",
              "  134,\n",
              "  476,\n",
              "  26,\n",
              "  480,\n",
              "  5,\n",
              "  144,\n",
              "  30,\n",
              "  5535,\n",
              "  18,\n",
              "  51,\n",
              "  36,\n",
              "  28,\n",
              "  224,\n",
              "  92,\n",
              "  25,\n",
              "  104,\n",
              "  4,\n",
              "  226,\n",
              "  65,\n",
              "  16,\n",
              "  38,\n",
              "  1334,\n",
              "  88,\n",
              "  12,\n",
              "  16,\n",
              "  283,\n",
              "  5,\n",
              "  16,\n",
              "  4472,\n",
              "  113,\n",
              "  103,\n",
              "  32,\n",
              "  15,\n",
              "  16,\n",
              "  5345,\n",
              "  19,\n",
              "  178,\n",
              "  32])"
            ]
          },
          "metadata": {},
          "execution_count": 5
        }
      ]
    },
    {
      "cell_type": "code",
      "execution_count": 2,
      "metadata": {
        "id": "1ISuBsl5Xgpv"
      },
      "outputs": [],
      "source": [
        "import nltk, kss, konlpy #영어, , 한국어"
      ]
    },
    {
      "cell_type": "code",
      "source": [
        "nltk.__version__, konlpy.__version__"
      ],
      "metadata": {
        "colab": {
          "base_uri": "https://localhost:8080/"
        },
        "id": "t3WmfsKSt7Fu",
        "outputId": "4b8bb6cd-b824-4b97-a279-a5a02beec58a"
      },
      "execution_count": 4,
      "outputs": [
        {
          "output_type": "execute_result",
          "data": {
            "text/plain": [
              "('3.7', '0.6.0')"
            ]
          },
          "metadata": {},
          "execution_count": 4
        }
      ]
    },
    {
      "cell_type": "code",
      "source": [
        "from tensorflow.keras.preprocessing.text import text_to_word_sequence\n",
        "from nltk.tokenize import word_tokenize\n",
        "from nltk.tokenize import WordPunctTokenizer"
      ],
      "metadata": {
        "id": "lNDr9T6MuYxT"
      },
      "execution_count": 6,
      "outputs": []
    },
    {
      "cell_type": "code",
      "source": [
        "nltk.download('punkt')\n",
        "nltk.download('averaged_perceptron_tagger')"
      ],
      "metadata": {
        "colab": {
          "base_uri": "https://localhost:8080/"
        },
        "id": "WxWIR33iwOYu",
        "outputId": "7021b597-9861-4d06-874b-bdb8e5411cc9"
      },
      "execution_count": 9,
      "outputs": [
        {
          "output_type": "stream",
          "name": "stderr",
          "text": [
            "[nltk_data] Downloading package punkt to /root/nltk_data...\n",
            "[nltk_data]   Unzipping tokenizers/punkt.zip.\n",
            "[nltk_data] Downloading package averaged_perceptron_tagger to\n",
            "[nltk_data]     /root/nltk_data...\n",
            "[nltk_data]   Unzipping taggers/averaged_perceptron_tagger.zip.\n"
          ]
        },
        {
          "output_type": "execute_result",
          "data": {
            "text/plain": [
              "True"
            ]
          },
          "metadata": {},
          "execution_count": 9
        }
      ]
    },
    {
      "cell_type": "code",
      "source": [
        "d ='the as you with out themselves powerful lets loves their becomes reaching had journalist of lot from anyone to have after out atmosphere never more room titillate it so heart shows to years of every never going villaronga help moments or of every'"
      ],
      "metadata": {
        "id": "H0PNAGPEvRhn"
      },
      "execution_count": 10,
      "outputs": []
    },
    {
      "cell_type": "code",
      "source": [
        "word_tokenize(d)"
      ],
      "metadata": {
        "id": "00qBwzgLv12O"
      },
      "execution_count": null,
      "outputs": []
    },
    {
      "cell_type": "code",
      "source": [
        "WordPunctTokenizer().tokenize(d)"
      ],
      "metadata": {
        "id": "_57f3vRywnEQ"
      },
      "execution_count": null,
      "outputs": []
    },
    {
      "cell_type": "code",
      "source": [
        "text_to_word_sequence(d)"
      ],
      "metadata": {
        "id": "UpGcwmr4xK5P"
      },
      "execution_count": null,
      "outputs": []
    },
    {
      "cell_type": "code",
      "source": [
        "from nltk.tokenize import TreebankWordTokenizer\n",
        "TreebankWordTokenizer().tokenize(d)"
      ],
      "metadata": {
        "id": "QnDi2MfTxPre"
      },
      "execution_count": null,
      "outputs": []
    },
    {
      "cell_type": "code",
      "source": [
        "d = \"Don't be fooled by the dark sounding name, hom-data Mr. Jone's Orphanage is as cheery as cheery goes for a pastry shop.\""
      ],
      "metadata": {
        "id": "QTGiqgDNxwnG"
      },
      "execution_count": 16,
      "outputs": []
    },
    {
      "cell_type": "code",
      "source": [
        "word_tokenize(d)"
      ],
      "metadata": {
        "colab": {
          "base_uri": "https://localhost:8080/"
        },
        "id": "GrBuxjH9x3G3",
        "outputId": "60766acd-e510-40df-cbaf-bc4e392bb836"
      },
      "execution_count": 17,
      "outputs": [
        {
          "output_type": "execute_result",
          "data": {
            "text/plain": [
              "['Do',\n",
              " \"n't\",\n",
              " 'be',\n",
              " 'fooled',\n",
              " 'by',\n",
              " 'the',\n",
              " 'dark',\n",
              " 'sounding',\n",
              " 'name',\n",
              " ',',\n",
              " 'hom-data',\n",
              " 'Mr.',\n",
              " 'Jone',\n",
              " \"'s\",\n",
              " 'Orphanage',\n",
              " 'is',\n",
              " 'as',\n",
              " 'cheery',\n",
              " 'as',\n",
              " 'cheery',\n",
              " 'goes',\n",
              " 'for',\n",
              " 'a',\n",
              " 'pastry',\n",
              " 'shop',\n",
              " '.']"
            ]
          },
          "metadata": {},
          "execution_count": 17
        }
      ]
    },
    {
      "cell_type": "code",
      "source": [
        "WordPunctTokenizer().tokenize(d) #같은 패키지에서 가져온 토크나이즈들인데 결과가 다르다."
      ],
      "metadata": {
        "colab": {
          "base_uri": "https://localhost:8080/"
        },
        "id": "K83O2Zqdx8lt",
        "outputId": "09f6dace-8cf5-43e3-be44-f1acd929722e"
      },
      "execution_count": 18,
      "outputs": [
        {
          "output_type": "execute_result",
          "data": {
            "text/plain": [
              "['Don',\n",
              " \"'\",\n",
              " 't',\n",
              " 'be',\n",
              " 'fooled',\n",
              " 'by',\n",
              " 'the',\n",
              " 'dark',\n",
              " 'sounding',\n",
              " 'name',\n",
              " ',',\n",
              " 'hom',\n",
              " '-',\n",
              " 'data',\n",
              " 'Mr',\n",
              " '.',\n",
              " 'Jone',\n",
              " \"'\",\n",
              " 's',\n",
              " 'Orphanage',\n",
              " 'is',\n",
              " 'as',\n",
              " 'cheery',\n",
              " 'as',\n",
              " 'cheery',\n",
              " 'goes',\n",
              " 'for',\n",
              " 'a',\n",
              " 'pastry',\n",
              " 'shop',\n",
              " '.']"
            ]
          },
          "metadata": {},
          "execution_count": 18
        }
      ]
    },
    {
      "cell_type": "code",
      "source": [
        "text_to_word_sequence(d)"
      ],
      "metadata": {
        "colab": {
          "base_uri": "https://localhost:8080/"
        },
        "id": "rALoIe5Tx9-t",
        "outputId": "0930bb5e-d13c-44f6-c16b-3f1a39edab59"
      },
      "execution_count": 19,
      "outputs": [
        {
          "output_type": "execute_result",
          "data": {
            "text/plain": [
              "[\"don't\",\n",
              " 'be',\n",
              " 'fooled',\n",
              " 'by',\n",
              " 'the',\n",
              " 'dark',\n",
              " 'sounding',\n",
              " 'name',\n",
              " 'hom',\n",
              " 'data',\n",
              " 'mr',\n",
              " \"jone's\",\n",
              " 'orphanage',\n",
              " 'is',\n",
              " 'as',\n",
              " 'cheery',\n",
              " 'as',\n",
              " 'cheery',\n",
              " 'goes',\n",
              " 'for',\n",
              " 'a',\n",
              " 'pastry',\n",
              " 'shop']"
            ]
          },
          "metadata": {},
          "execution_count": 19
        }
      ]
    },
    {
      "cell_type": "code",
      "source": [
        "TreebankWordTokenizer().tokenize(d)"
      ],
      "metadata": {
        "colab": {
          "base_uri": "https://localhost:8080/"
        },
        "id": "SW9rtt6px_QN",
        "outputId": "af2c9c15-2fc1-44eb-c203-aadc1c61a97b"
      },
      "execution_count": 20,
      "outputs": [
        {
          "output_type": "execute_result",
          "data": {
            "text/plain": [
              "['Do',\n",
              " \"n't\",\n",
              " 'be',\n",
              " 'fooled',\n",
              " 'by',\n",
              " 'the',\n",
              " 'dark',\n",
              " 'sounding',\n",
              " 'name',\n",
              " ',',\n",
              " 'hom-data',\n",
              " 'Mr.',\n",
              " 'Jone',\n",
              " \"'s\",\n",
              " 'Orphanage',\n",
              " 'is',\n",
              " 'as',\n",
              " 'cheery',\n",
              " 'as',\n",
              " 'cheery',\n",
              " 'goes',\n",
              " 'for',\n",
              " 'a',\n",
              " 'pastry',\n",
              " 'shop',\n",
              " '.']"
            ]
          },
          "metadata": {},
          "execution_count": 20
        }
      ]
    },
    {
      "cell_type": "code",
      "source": [
        "from nltk.tokenize import sent_tokenize #문장 토큰"
      ],
      "metadata": {
        "id": "HcsRF9BrygnX"
      },
      "execution_count": 22,
      "outputs": []
    },
    {
      "cell_type": "code",
      "source": [
        "d_k = '안녕하세용. 반갑습니당. 집에 가고 싶습니다. 배가 고프기도 합니다. 제가 너무 불쌍해지는군요.'"
      ],
      "metadata": {
        "id": "V5QefxmmyvVX"
      },
      "execution_count": 24,
      "outputs": []
    },
    {
      "cell_type": "code",
      "source": [
        "d2 = \"His barber kept his word. But keeping such a huge secret to himself was driving him crazy. Finally, the barber went up a mountain and almost to the edge of a cliff. He dug a hole in the midst of some reeds. He looked about, to make sure no one was near.\"\n",
        "sent_tokenize(d2)"
      ],
      "metadata": {
        "colab": {
          "base_uri": "https://localhost:8080/"
        },
        "id": "03TUj5ypyoqu",
        "outputId": "3070669e-5a4b-48b3-e1d3-fba511cedbdb"
      },
      "execution_count": 23,
      "outputs": [
        {
          "output_type": "execute_result",
          "data": {
            "text/plain": [
              "['His barber kept his word.',\n",
              " 'But keeping such a huge secret to himself was driving him crazy.',\n",
              " 'Finally, the barber went up a mountain and almost to the edge of a cliff.',\n",
              " 'He dug a hole in the midst of some reeds.',\n",
              " 'He looked about, to make sure no one was near.']"
            ]
          },
          "metadata": {},
          "execution_count": 23
        }
      ]
    },
    {
      "cell_type": "code",
      "source": [
        "sent_tokenize(d_k)\n",
        "#한국어든 영어든 alpha로 판단해서 똑같이 토큰화가 된다."
      ],
      "metadata": {
        "colab": {
          "base_uri": "https://localhost:8080/"
        },
        "id": "c04Mnezoy593",
        "outputId": "36873ea8-db65-4497-a5fb-8516611c36df"
      },
      "execution_count": 26,
      "outputs": [
        {
          "output_type": "execute_result",
          "data": {
            "text/plain": [
              "['안녕하세용.', '반갑습니당.', '집에 가고 싶습니다.', '배가 고프기도 합니다.', '제가 너무 불쌍해지는군요.']"
            ]
          },
          "metadata": {},
          "execution_count": 26
        }
      ]
    },
    {
      "cell_type": "code",
      "source": [
        "from nltk.tokenize import word_tokenize\n",
        "from nltk.tag import pos_tag #영어\n",
        "from konlpy.tag import Okt #한국어 형태소 분석기\n",
        "from konlpy.tag import Kkma #학습되어있는 전처리기. "
      ],
      "metadata": {
        "id": "oCG9Nt8CzEh_"
      },
      "execution_count": 40,
      "outputs": []
    },
    {
      "cell_type": "code",
      "source": [
        "e_d = \"Don't be fooled by the dark sounding name, hom-data Mr. Jone's Orphanage is as cheery as cheery goes for a pastry shop.\""
      ],
      "metadata": {
        "id": "agJ3ylJP0Vgb"
      },
      "execution_count": 31,
      "outputs": []
    },
    {
      "cell_type": "code",
      "source": [
        "k_d = '너무 더워서 에어컨을 틀었는데 너무 추워서 패딩을 입었다. 너무 또 더워서 냉면을 먹었다.'"
      ],
      "metadata": {
        "id": "DIh1YsdU0iys"
      },
      "execution_count": 30,
      "outputs": []
    },
    {
      "cell_type": "code",
      "source": [
        "n_t = word_tokenize(e_d)"
      ],
      "metadata": {
        "id": "Hehy37dV0sLO"
      },
      "execution_count": 33,
      "outputs": []
    },
    {
      "cell_type": "code",
      "source": [
        "pos_tag(n_t)\n",
        "#단어마다 역할을 태깅해줌 (품사)"
      ],
      "metadata": {
        "colab": {
          "base_uri": "https://localhost:8080/"
        },
        "id": "hh7MxzRI09sJ",
        "outputId": "c7c031ff-c90e-4d15-99bf-e3f19a211525"
      },
      "execution_count": 34,
      "outputs": [
        {
          "output_type": "execute_result",
          "data": {
            "text/plain": [
              "[('Do', 'VBP'),\n",
              " (\"n't\", 'RB'),\n",
              " ('be', 'VB'),\n",
              " ('fooled', 'VBN'),\n",
              " ('by', 'IN'),\n",
              " ('the', 'DT'),\n",
              " ('dark', 'NN'),\n",
              " ('sounding', 'VBG'),\n",
              " ('name', 'NN'),\n",
              " (',', ','),\n",
              " ('hom-data', 'JJ'),\n",
              " ('Mr.', 'NNP'),\n",
              " ('Jone', 'NNP'),\n",
              " (\"'s\", 'POS'),\n",
              " ('Orphanage', 'NN'),\n",
              " ('is', 'VBZ'),\n",
              " ('as', 'RB'),\n",
              " ('cheery', 'JJ'),\n",
              " ('as', 'IN'),\n",
              " ('cheery', 'NN'),\n",
              " ('goes', 'VBZ'),\n",
              " ('for', 'IN'),\n",
              " ('a', 'DT'),\n",
              " ('pastry', 'NN'),\n",
              " ('shop', 'NN'),\n",
              " ('.', '.')]"
            ]
          },
          "metadata": {},
          "execution_count": 34
        }
      ]
    },
    {
      "cell_type": "code",
      "source": [
        "k_n = Okt() #클래스임"
      ],
      "metadata": {
        "id": "HM3FBbPh1ND_"
      },
      "execution_count": 35,
      "outputs": []
    },
    {
      "cell_type": "code",
      "source": [
        "k_n.morphs(k_d) #단어들만 출력"
      ],
      "metadata": {
        "colab": {
          "base_uri": "https://localhost:8080/"
        },
        "id": "LCT1EoCy1SUj",
        "outputId": "10841bc5-70de-4f1e-92b2-0881bb638e8f"
      },
      "execution_count": 36,
      "outputs": [
        {
          "output_type": "execute_result",
          "data": {
            "text/plain": [
              "['너무',\n",
              " '더워서',\n",
              " '에어컨',\n",
              " '을',\n",
              " '틀었는데',\n",
              " '너무',\n",
              " '추워서',\n",
              " '패딩',\n",
              " '을',\n",
              " '입었다',\n",
              " '.',\n",
              " '너무',\n",
              " '또',\n",
              " '더워서',\n",
              " '냉면',\n",
              " '을',\n",
              " '먹었다',\n",
              " '.']"
            ]
          },
          "metadata": {},
          "execution_count": 36
        }
      ]
    },
    {
      "cell_type": "code",
      "source": [
        "k_n.pos(k_d) #품사"
      ],
      "metadata": {
        "colab": {
          "base_uri": "https://localhost:8080/"
        },
        "id": "d2c3YpiH1sg2",
        "outputId": "b6f4c324-12d0-4278-fc6f-bccef7676f75"
      },
      "execution_count": 37,
      "outputs": [
        {
          "output_type": "execute_result",
          "data": {
            "text/plain": [
              "[('너무', 'Adverb'),\n",
              " ('더워서', 'Adjective'),\n",
              " ('에어컨', 'Noun'),\n",
              " ('을', 'Josa'),\n",
              " ('틀었는데', 'Verb'),\n",
              " ('너무', 'Adverb'),\n",
              " ('추워서', 'Adjective'),\n",
              " ('패딩', 'Noun'),\n",
              " ('을', 'Josa'),\n",
              " ('입었다', 'Verb'),\n",
              " ('.', 'Punctuation'),\n",
              " ('너무', 'Adverb'),\n",
              " ('또', 'Noun'),\n",
              " ('더워서', 'Adjective'),\n",
              " ('냉면', 'Noun'),\n",
              " ('을', 'Josa'),\n",
              " ('먹었다', 'Verb'),\n",
              " ('.', 'Punctuation')]"
            ]
          },
          "metadata": {},
          "execution_count": 37
        }
      ]
    },
    {
      "cell_type": "code",
      "source": [
        "k_n.nouns(k_d)#명사만 뽑음"
      ],
      "metadata": {
        "colab": {
          "base_uri": "https://localhost:8080/"
        },
        "id": "J-bvFNLJ18qf",
        "outputId": "fca85517-a7ea-479c-c46f-872c32e1b78a"
      },
      "execution_count": 38,
      "outputs": [
        {
          "output_type": "execute_result",
          "data": {
            "text/plain": [
              "['에어컨', '패딩', '또', '냉면']"
            ]
          },
          "metadata": {},
          "execution_count": 38
        }
      ]
    },
    {
      "cell_type": "code",
      "source": [
        "k_n2 = Kkma()\n",
        "k_n2.morphs(k_d), k_n2.pos(k_d), k_n2.nouns(k_d)"
      ],
      "metadata": {
        "colab": {
          "base_uri": "https://localhost:8080/"
        },
        "id": "LEe2xGZR2eln",
        "outputId": "be8bce64-15e9-4caf-93bc-deed693b5d54"
      },
      "execution_count": 41,
      "outputs": [
        {
          "output_type": "execute_result",
          "data": {
            "text/plain": [
              "(['너무',\n",
              "  '덥',\n",
              "  '어서',\n",
              "  '에어컨',\n",
              "  '을',\n",
              "  '튿',\n",
              "  '었',\n",
              "  '는데',\n",
              "  '너무',\n",
              "  '춥',\n",
              "  '어서',\n",
              "  '패딩',\n",
              "  '을',\n",
              "  '입',\n",
              "  '었',\n",
              "  '다',\n",
              "  '.',\n",
              "  '너무',\n",
              "  '또',\n",
              "  '덥',\n",
              "  '어서',\n",
              "  '냉면',\n",
              "  '을',\n",
              "  '먹',\n",
              "  '었',\n",
              "  '다',\n",
              "  '.'],\n",
              " [('너무', 'MAG'),\n",
              "  ('덥', 'VA'),\n",
              "  ('어서', 'ECD'),\n",
              "  ('에어컨', 'NNG'),\n",
              "  ('을', 'JKO'),\n",
              "  ('튿', 'VV'),\n",
              "  ('었', 'EPT'),\n",
              "  ('는데', 'ECD'),\n",
              "  ('너무', 'MAG'),\n",
              "  ('춥', 'VA'),\n",
              "  ('어서', 'ECD'),\n",
              "  ('패딩', 'NNG'),\n",
              "  ('을', 'JKO'),\n",
              "  ('입', 'VV'),\n",
              "  ('었', 'EPT'),\n",
              "  ('다', 'EFN'),\n",
              "  ('.', 'SF'),\n",
              "  ('너무', 'MAG'),\n",
              "  ('또', 'MAG'),\n",
              "  ('덥', 'VA'),\n",
              "  ('어서', 'ECD'),\n",
              "  ('냉면', 'NNG'),\n",
              "  ('을', 'JKO'),\n",
              "  ('먹', 'VV'),\n",
              "  ('었', 'EPT'),\n",
              "  ('다', 'EFN'),\n",
              "  ('.', 'SF')],\n",
              " ['에어컨', '패딩', '냉면'])"
            ]
          },
          "metadata": {},
          "execution_count": 41
        }
      ]
    },
    {
      "cell_type": "code",
      "source": [
        "data = '오늘은 내용이 쉽지는 않군요 그런데 원래도 그랬고 배고파요. 집에 가고파요'"
      ],
      "metadata": {
        "id": "RzrBydjA8UYH"
      },
      "execution_count": 44,
      "outputs": []
    },
    {
      "cell_type": "code",
      "source": [
        "stopword = '은 는 이 가 요 배고파요'.split()\n",
        "stopword"
      ],
      "metadata": {
        "colab": {
          "base_uri": "https://localhost:8080/"
        },
        "id": "JsLlNrN29FZ8",
        "outputId": "07a6145b-a6cf-477c-8ee0-1630a979c9cd"
      },
      "execution_count": 45,
      "outputs": [
        {
          "output_type": "execute_result",
          "data": {
            "text/plain": [
              "['은', '는', '이', '가', '요', '배고파요']"
            ]
          },
          "metadata": {},
          "execution_count": 45
        }
      ]
    },
    {
      "cell_type": "code",
      "source": [
        "okt = Okt()\n",
        "t_d = okt.morphs(data)\n",
        "t_d"
      ],
      "metadata": {
        "colab": {
          "base_uri": "https://localhost:8080/"
        },
        "id": "KOLJTi1B90qI",
        "outputId": "e9819127-1dce-4ce3-ca73-bddf1d19dff7"
      },
      "execution_count": 46,
      "outputs": [
        {
          "output_type": "execute_result",
          "data": {
            "text/plain": [
              "['오늘',\n",
              " '은',\n",
              " '내용',\n",
              " '이',\n",
              " '쉽지는',\n",
              " '않군요',\n",
              " '그런데',\n",
              " '원래',\n",
              " '도',\n",
              " '그랬고',\n",
              " '배고파요',\n",
              " '.',\n",
              " '집',\n",
              " '에',\n",
              " '가고',\n",
              " '파',\n",
              " '요']"
            ]
          },
          "metadata": {},
          "execution_count": 46
        }
      ]
    },
    {
      "cell_type": "code",
      "source": [
        "end_d = [i for i in t_d if not i in stopword]\n",
        "#불용어를 걸러버림"
      ],
      "metadata": {
        "id": "Qt5i7gW3-BE_"
      },
      "execution_count": 47,
      "outputs": []
    },
    {
      "cell_type": "code",
      "source": [
        "end_d"
      ],
      "metadata": {
        "colab": {
          "base_uri": "https://localhost:8080/"
        },
        "id": "4PVeHnmq-drs",
        "outputId": "19aac8f7-8082-4243-d3a0-75d52a422ec9"
      },
      "execution_count": 48,
      "outputs": [
        {
          "output_type": "execute_result",
          "data": {
            "text/plain": [
              "['오늘', '내용', '쉽지는', '않군요', '그런데', '원래', '도', '그랬고', '.', '집', '에', '가고', '파']"
            ]
          },
          "metadata": {},
          "execution_count": 48
        }
      ]
    },
    {
      "cell_type": "code",
      "source": [
        "import re #정규표현식 패키지.\n",
        "r = re.compile('d.t')\n",
        "r.search('datadatadata') #serch는 같은 문자열을 찾음. 정규표현식 포함해서"
      ],
      "metadata": {
        "colab": {
          "base_uri": "https://localhost:8080/"
        },
        "id": "KOfCUSyj_GHo",
        "outputId": "20fd5d48-c299-4fc7-e0e6-a915e840407d"
      },
      "execution_count": 101,
      "outputs": [
        {
          "output_type": "execute_result",
          "data": {
            "text/plain": [
              "<re.Match object; span=(0, 3), match='dat'>"
            ]
          },
          "metadata": {},
          "execution_count": 101
        }
      ]
    },
    {
      "cell_type": "code",
      "source": [
        "r = re.compile('d?t')\n",
        "r.search('cat') # 직접 입력된 내용을 찾는다.\n",
        "#r이라는 변수에 t 앞에 d가 있어도 되고 없어도 된다는 조건(문자)을 집어넣음. \n",
        "#그 중 search라는 메소드는 r에 담긴 문자가 매개변수에 포함되어 있는지 확인하고 그 위치를 알려주는 듯?"
      ],
      "metadata": {
        "colab": {
          "base_uri": "https://localhost:8080/"
        },
        "id": "klGuoLRy_-oZ",
        "outputId": "7603706a-6244-4ebd-b029-4be570441394"
      },
      "execution_count": 60,
      "outputs": [
        {
          "output_type": "execute_result",
          "data": {
            "text/plain": [
              "<re.Match object; span=(2, 3), match='t'>"
            ]
          },
          "metadata": {},
          "execution_count": 60
        }
      ]
    },
    {
      "cell_type": "code",
      "source": [
        "r = re.compile('d+')\n",
        "r.search('dsadsaf')"
      ],
      "metadata": {
        "colab": {
          "base_uri": "https://localhost:8080/"
        },
        "id": "m7A5BYYXA11G",
        "outputId": "00e12494-2864-4be8-b003-6dcbb0aedff4"
      },
      "execution_count": 66,
      "outputs": [
        {
          "output_type": "execute_result",
          "data": {
            "text/plain": [
              "<re.Match object; span=(0, 1), match='d'>"
            ]
          },
          "metadata": {},
          "execution_count": 66
        }
      ]
    },
    {
      "cell_type": "code",
      "source": [
        "r = re.compile('^ds')\n",
        "r.search('dssss')"
      ],
      "metadata": {
        "colab": {
          "base_uri": "https://localhost:8080/"
        },
        "id": "I8OyQYROBN_g",
        "outputId": "aee8fc1f-4f30-4139-a985-43647ef229fd"
      },
      "execution_count": 70,
      "outputs": [
        {
          "output_type": "execute_result",
          "data": {
            "text/plain": [
              "<re.Match object; span=(0, 2), match='ds'>"
            ]
          },
          "metadata": {},
          "execution_count": 70
        }
      ]
    },
    {
      "cell_type": "code",
      "source": [
        "import pandas as pd\n",
        "\n",
        "data = ' ?'\n",
        "r = re.compile('^ ')\n",
        "if r.search(data):\n",
        "    data = data[1:]\n",
        "\n",
        "data"
      ],
      "metadata": {
        "colab": {
          "base_uri": "https://localhost:8080/",
          "height": 35
        },
        "id": "nFrh7m9RB_Ez",
        "outputId": "d41bc323-2afd-48a7-f9dd-f4619ca01b5b"
      },
      "execution_count": 76,
      "outputs": [
        {
          "output_type": "execute_result",
          "data": {
            "text/plain": [
              "'?'"
            ],
            "application/vnd.google.colaboratory.intrinsic+json": {
              "type": "string"
            }
          },
          "metadata": {},
          "execution_count": 76
        }
      ]
    },
    {
      "cell_type": "code",
      "source": [
        "#df['key'] = df.key.str.replace('^ ', data[1:])\n",
        "#판다스 내 str 메소드를 쓰면 알아서 정규표현식을 인식한다."
      ],
      "metadata": {
        "id": "8MTtwMkrDEE4"
      },
      "execution_count": null,
      "outputs": []
    },
    {
      "cell_type": "code",
      "source": [
        "r = re.compile('d+t')\n",
        "r.search('dtsadsdtaf')"
      ],
      "metadata": {
        "colab": {
          "base_uri": "https://localhost:8080/"
        },
        "id": "5SqUwMyGEgSB",
        "outputId": "260fe836-3688-48cf-f6c1-5b40f22154d6"
      },
      "execution_count": 78,
      "outputs": [
        {
          "output_type": "execute_result",
          "data": {
            "text/plain": [
              "<re.Match object; span=(0, 2), match='dt'>"
            ]
          },
          "metadata": {},
          "execution_count": 78
        }
      ]
    },
    {
      "cell_type": "code",
      "source": [
        "r = re.compile('d+t$') #d라는 문자가 최소 한 번 인식되며 바로 뒤에 t가 있고 그 문자가 가장 뒤에 있어야 매치한다.\n",
        "r.search('dtsadsdtafdt')"
      ],
      "metadata": {
        "colab": {
          "base_uri": "https://localhost:8080/"
        },
        "id": "LFtvPmoxEnZY",
        "outputId": "a6abc3d6-d1e7-46f2-b1f7-5be7872bf4c9"
      },
      "execution_count": 82,
      "outputs": [
        {
          "output_type": "execute_result",
          "data": {
            "text/plain": [
              "<re.Match object; span=(10, 12), match='dt'>"
            ]
          },
          "metadata": {},
          "execution_count": 82
        }
      ]
    },
    {
      "cell_type": "code",
      "source": [
        "import pandas as pd\n",
        "k = pd.DataFrame(['a data', 'ada ta','adata', '  data'], columns=['data'])\n",
        "k"
      ],
      "metadata": {
        "colab": {
          "base_uri": "https://localhost:8080/",
          "height": 175
        },
        "id": "XGU9ynYLXyCJ",
        "outputId": "621da4f6-b32b-4ac2-9571-0083ad7c1fb8"
      },
      "execution_count": 98,
      "outputs": [
        {
          "output_type": "execute_result",
          "data": {
            "text/plain": [
              "     data\n",
              "0  a data\n",
              "1  ada ta\n",
              "2   adata\n",
              "3    data"
            ],
            "text/html": [
              "\n",
              "  <div id=\"df-a7781634-73c1-4026-8012-88e67e4d8fec\">\n",
              "    <div class=\"colab-df-container\">\n",
              "      <div>\n",
              "<style scoped>\n",
              "    .dataframe tbody tr th:only-of-type {\n",
              "        vertical-align: middle;\n",
              "    }\n",
              "\n",
              "    .dataframe tbody tr th {\n",
              "        vertical-align: top;\n",
              "    }\n",
              "\n",
              "    .dataframe thead th {\n",
              "        text-align: right;\n",
              "    }\n",
              "</style>\n",
              "<table border=\"1\" class=\"dataframe\">\n",
              "  <thead>\n",
              "    <tr style=\"text-align: right;\">\n",
              "      <th></th>\n",
              "      <th>data</th>\n",
              "    </tr>\n",
              "  </thead>\n",
              "  <tbody>\n",
              "    <tr>\n",
              "      <th>0</th>\n",
              "      <td>a data</td>\n",
              "    </tr>\n",
              "    <tr>\n",
              "      <th>1</th>\n",
              "      <td>ada ta</td>\n",
              "    </tr>\n",
              "    <tr>\n",
              "      <th>2</th>\n",
              "      <td>adata</td>\n",
              "    </tr>\n",
              "    <tr>\n",
              "      <th>3</th>\n",
              "      <td>data</td>\n",
              "    </tr>\n",
              "  </tbody>\n",
              "</table>\n",
              "</div>\n",
              "      <button class=\"colab-df-convert\" onclick=\"convertToInteractive('df-a7781634-73c1-4026-8012-88e67e4d8fec')\"\n",
              "              title=\"Convert this dataframe to an interactive table.\"\n",
              "              style=\"display:none;\">\n",
              "        \n",
              "  <svg xmlns=\"http://www.w3.org/2000/svg\" height=\"24px\"viewBox=\"0 0 24 24\"\n",
              "       width=\"24px\">\n",
              "    <path d=\"M0 0h24v24H0V0z\" fill=\"none\"/>\n",
              "    <path d=\"M18.56 5.44l.94 2.06.94-2.06 2.06-.94-2.06-.94-.94-2.06-.94 2.06-2.06.94zm-11 1L8.5 8.5l.94-2.06 2.06-.94-2.06-.94L8.5 2.5l-.94 2.06-2.06.94zm10 10l.94 2.06.94-2.06 2.06-.94-2.06-.94-.94-2.06-.94 2.06-2.06.94z\"/><path d=\"M17.41 7.96l-1.37-1.37c-.4-.4-.92-.59-1.43-.59-.52 0-1.04.2-1.43.59L10.3 9.45l-7.72 7.72c-.78.78-.78 2.05 0 2.83L4 21.41c.39.39.9.59 1.41.59.51 0 1.02-.2 1.41-.59l7.78-7.78 2.81-2.81c.8-.78.8-2.07 0-2.86zM5.41 20L4 18.59l7.72-7.72 1.47 1.35L5.41 20z\"/>\n",
              "  </svg>\n",
              "      </button>\n",
              "      \n",
              "  <style>\n",
              "    .colab-df-container {\n",
              "      display:flex;\n",
              "      flex-wrap:wrap;\n",
              "      gap: 12px;\n",
              "    }\n",
              "\n",
              "    .colab-df-convert {\n",
              "      background-color: #E8F0FE;\n",
              "      border: none;\n",
              "      border-radius: 50%;\n",
              "      cursor: pointer;\n",
              "      display: none;\n",
              "      fill: #1967D2;\n",
              "      height: 32px;\n",
              "      padding: 0 0 0 0;\n",
              "      width: 32px;\n",
              "    }\n",
              "\n",
              "    .colab-df-convert:hover {\n",
              "      background-color: #E2EBFA;\n",
              "      box-shadow: 0px 1px 2px rgba(60, 64, 67, 0.3), 0px 1px 3px 1px rgba(60, 64, 67, 0.15);\n",
              "      fill: #174EA6;\n",
              "    }\n",
              "\n",
              "    [theme=dark] .colab-df-convert {\n",
              "      background-color: #3B4455;\n",
              "      fill: #D2E3FC;\n",
              "    }\n",
              "\n",
              "    [theme=dark] .colab-df-convert:hover {\n",
              "      background-color: #434B5C;\n",
              "      box-shadow: 0px 1px 3px 1px rgba(0, 0, 0, 0.15);\n",
              "      filter: drop-shadow(0px 1px 2px rgba(0, 0, 0, 0.3));\n",
              "      fill: #FFFFFF;\n",
              "    }\n",
              "  </style>\n",
              "\n",
              "      <script>\n",
              "        const buttonEl =\n",
              "          document.querySelector('#df-a7781634-73c1-4026-8012-88e67e4d8fec button.colab-df-convert');\n",
              "        buttonEl.style.display =\n",
              "          google.colab.kernel.accessAllowed ? 'block' : 'none';\n",
              "\n",
              "        async function convertToInteractive(key) {\n",
              "          const element = document.querySelector('#df-a7781634-73c1-4026-8012-88e67e4d8fec');\n",
              "          const dataTable =\n",
              "            await google.colab.kernel.invokeFunction('convertToInteractive',\n",
              "                                                     [key], {});\n",
              "          if (!dataTable) return;\n",
              "\n",
              "          const docLinkHtml = 'Like what you see? Visit the ' +\n",
              "            '<a target=\"_blank\" href=https://colab.research.google.com/notebooks/data_table.ipynb>data table notebook</a>'\n",
              "            + ' to learn more about interactive tables.';\n",
              "          element.innerHTML = '';\n",
              "          dataTable['output_type'] = 'display_data';\n",
              "          await google.colab.output.renderOutput(dataTable, element);\n",
              "          const docLink = document.createElement('div');\n",
              "          docLink.innerHTML = docLinkHtml;\n",
              "          element.appendChild(docLink);\n",
              "        }\n",
              "      </script>\n",
              "    </div>\n",
              "  </div>\n",
              "  "
            ]
          },
          "metadata": {},
          "execution_count": 98
        }
      ]
    },
    {
      "cell_type": "code",
      "source": [
        "k.data.str.replace('^a','')"
      ],
      "metadata": {
        "colab": {
          "base_uri": "https://localhost:8080/"
        },
        "id": "P49PThSmYI4l",
        "outputId": "01ef8c63-70ad-467b-824b-510754248aca"
      },
      "execution_count": 99,
      "outputs": [
        {
          "output_type": "stream",
          "name": "stderr",
          "text": [
            "/usr/local/lib/python3.7/dist-packages/ipykernel_launcher.py:1: FutureWarning: The default value of regex will change from True to False in a future version.\n",
            "  \"\"\"Entry point for launching an IPython kernel.\n"
          ]
        },
        {
          "output_type": "execute_result",
          "data": {
            "text/plain": [
              "0      data\n",
              "1     da ta\n",
              "2      data\n",
              "3      data\n",
              "Name: data, dtype: object"
            ]
          },
          "metadata": {},
          "execution_count": 99
        }
      ]
    },
    {
      "cell_type": "code",
      "source": [
        "'^ + data'.replace('^ +','')"
      ],
      "metadata": {
        "colab": {
          "base_uri": "https://localhost:8080/",
          "height": 35
        },
        "id": "a9GOsGZ-ZZ6K",
        "outputId": "943855ad-cd1f-41f1-e761-d72ef5c88757"
      },
      "execution_count": 100,
      "outputs": [
        {
          "output_type": "execute_result",
          "data": {
            "text/plain": [
              "' data'"
            ],
            "application/vnd.google.colaboratory.intrinsic+json": {
              "type": "string"
            }
          },
          "metadata": {},
          "execution_count": 100
        }
      ]
    },
    {
      "cell_type": "code",
      "source": [
        "r= re.compile('asd{2}k') #숫자만큼 반복\n",
        "r.search('fsdafsasddk')"
      ],
      "metadata": {
        "colab": {
          "base_uri": "https://localhost:8080/"
        },
        "id": "rFtjDUyCanys",
        "outputId": "74d35f91-dc5a-4974-b825-7e7164784e1c"
      },
      "execution_count": 105,
      "outputs": [
        {
          "output_type": "execute_result",
          "data": {
            "text/plain": [
              "<re.Match object; span=(6, 11), match='asddk'>"
            ]
          },
          "metadata": {},
          "execution_count": 105
        }
      ]
    },
    {
      "cell_type": "code",
      "source": [
        "r = re.compile('asd{2,}k') #숫자 이상만큼 반복, {a,b} - a이상 b이하만큼 반복\n",
        "r.search('asdddddk')"
      ],
      "metadata": {
        "colab": {
          "base_uri": "https://localhost:8080/"
        },
        "id": "-ZL92mz7ba0N",
        "outputId": "a72e1986-c72e-4fac-aa50-b2d1308fa37c"
      },
      "execution_count": 110,
      "outputs": [
        {
          "output_type": "execute_result",
          "data": {
            "text/plain": [
              "<re.Match object; span=(0, 8), match='asdddddk'>"
            ]
          },
          "metadata": {},
          "execution_count": 110
        }
      ]
    },
    {
      "cell_type": "markdown",
      "source": [
        "[ ] - 괄호 안의 문자 유무, [-]범위\n",
        "\n",
        "\n"
      ],
      "metadata": {
        "id": "5CGyZoV3b9l6"
      }
    },
    {
      "cell_type": "code",
      "source": [
        "r= re.compile('[abc]')\n",
        "r.search('bcaqe')"
      ],
      "metadata": {
        "colab": {
          "base_uri": "https://localhost:8080/"
        },
        "id": "DdP9BmIhb-5X",
        "outputId": "dc0350a9-9ace-4bac-d700-246af36aaf74"
      },
      "execution_count": 114,
      "outputs": [
        {
          "output_type": "execute_result",
          "data": {
            "text/plain": [
              "<re.Match object; span=(0, 1), match='b'>"
            ]
          },
          "metadata": {},
          "execution_count": 114
        }
      ]
    },
    {
      "cell_type": "code",
      "source": [
        "r= re.compile('[^a-z1A-z]')\n",
        "r.searcj"
      ],
      "metadata": {
        "id": "4YGR8AnQciGy"
      },
      "execution_count": 115,
      "outputs": []
    },
    {
      "cell_type": "code",
      "source": [
        "r re.compile('\\d,'aoke[])"
      ],
      "metadata": {
        "id": "_cCfpAn4ctjM"
      },
      "execution_count": null,
      "outputs": []
    },
    {
      "cell_type": "markdown",
      "source": [
        "정수 인코딩"
      ],
      "metadata": {
        "id": "dJmP20cLfvyK"
      }
    },
    {
      "cell_type": "code",
      "source": [
        "from nltk.tokenize import sent_tokenize, word_tokenize\n",
        "from nltk.tokenize import word_tokenize\n",
        "from nltk.corpus import stopwords"
      ],
      "metadata": {
        "id": "_XsXxYTPf5-y"
      },
      "execution_count": 117,
      "outputs": []
    },
    {
      "cell_type": "code",
      "source": [
        "text = \"A barber is a person. a barber is good person. a barber is huge person. he Knew A Secret! The Secret He Kept is huge secret. Huge secret. His barber kept his word. a barber kept his word. His barber kept his secret. But keeping and keeping such a huge secret to himself was driving the barber crazy. the barber went up a huge mountain.\""
      ],
      "metadata": {
        "id": "XByof4oKfvBq"
      },
      "execution_count": 118,
      "outputs": []
    },
    {
      "cell_type": "code",
      "source": [
        "#문장토큰화\n",
        "tk_d = sent_tokenize(text)\n",
        "tk_d"
      ],
      "metadata": {
        "colab": {
          "base_uri": "https://localhost:8080/"
        },
        "id": "WBm0tzDAgZgb",
        "outputId": "efaaccdd-b3b5-440e-f204-53d1fb973965"
      },
      "execution_count": 122,
      "outputs": [
        {
          "output_type": "execute_result",
          "data": {
            "text/plain": [
              "['A barber is a person.',\n",
              " 'a barber is good person.',\n",
              " 'a barber is huge person.',\n",
              " 'he Knew A Secret!',\n",
              " 'The Secret He Kept is huge secret.',\n",
              " 'Huge secret.',\n",
              " 'His barber kept his word.',\n",
              " 'a barber kept his word.',\n",
              " 'His barber kept his secret.',\n",
              " 'But keeping and keeping such a huge secret to himself was driving the barber crazy.',\n",
              " 'the barber went up a huge mountain.']"
            ]
          },
          "metadata": {},
          "execution_count": 122
        }
      ]
    },
    {
      "cell_type": "code",
      "source": [
        "nltk.download('stopwords')"
      ],
      "metadata": {
        "colab": {
          "base_uri": "https://localhost:8080/"
        },
        "id": "UU9-RBB4hizN",
        "outputId": "213de93a-27b4-497d-ab9f-c77b45710d8d"
      },
      "execution_count": 124,
      "outputs": [
        {
          "output_type": "stream",
          "name": "stderr",
          "text": [
            "[nltk_data] Downloading package stopwords to /root/nltk_data...\n",
            "[nltk_data]   Unzipping corpora/stopwords.zip.\n"
          ]
        },
        {
          "output_type": "execute_result",
          "data": {
            "text/plain": [
              "True"
            ]
          },
          "metadata": {},
          "execution_count": 124
        }
      ]
    },
    {
      "cell_type": "code",
      "source": [
        "words = {}\n",
        "t_data = []\n",
        "sw = set(stopwords.words('english'))\n",
        "sw"
      ],
      "metadata": {
        "id": "SaaxNKJ_gh26"
      },
      "execution_count": null,
      "outputs": []
    },
    {
      "cell_type": "code",
      "source": [
        "for s in tk_d:\n",
        "    words_info = word_tokenize(s)\n",
        "    l = []\n",
        "    for word in words_info:\n",
        "        lower_word = word.lower()\n",
        "        if lower_word not in sw:\n",
        "            if len(lower_word) > 2: #두글자 이하는 큰 의미가 없는 단어이기 때문에 걸러주려 한다.\n",
        "                l.append(lower_word)\n",
        "                if lower_word not in words:\n",
        "                    words[lower_word] = 0\n",
        "                words[lower_word] += 1  #단어모음집 word 딕셔너리에 단어의 수를 늘려준다.\n",
        "    t_data.append(l)\n",
        "t_data"
      ],
      "metadata": {
        "colab": {
          "base_uri": "https://localhost:8080/"
        },
        "id": "c5ccF7X8iHEs",
        "outputId": "ff23fcfd-69c8-4b21-d09d-180461383cac"
      },
      "execution_count": 128,
      "outputs": [
        {
          "output_type": "execute_result",
          "data": {
            "text/plain": [
              "[['barber', 'person'],\n",
              " ['barber', 'good', 'person'],\n",
              " ['barber', 'huge', 'person'],\n",
              " ['knew', 'secret'],\n",
              " ['secret', 'kept', 'huge', 'secret'],\n",
              " ['huge', 'secret'],\n",
              " ['barber', 'kept', 'word'],\n",
              " ['barber', 'kept', 'word'],\n",
              " ['barber', 'kept', 'secret'],\n",
              " ['keeping', 'keeping', 'huge', 'secret', 'driving', 'barber', 'crazy'],\n",
              " ['barber', 'went', 'huge', 'mountain']]"
            ]
          },
          "metadata": {},
          "execution_count": 128
        }
      ]
    },
    {
      "cell_type": "code",
      "source": [
        "words #단어의 빈도수"
      ],
      "metadata": {
        "colab": {
          "base_uri": "https://localhost:8080/"
        },
        "id": "rh5xfrbEmA02",
        "outputId": "94758ef2-ab9f-44a6-f609-e2831814ced0"
      },
      "execution_count": 129,
      "outputs": [
        {
          "output_type": "execute_result",
          "data": {
            "text/plain": [
              "{'barber': 8,\n",
              " 'crazy': 1,\n",
              " 'driving': 1,\n",
              " 'good': 1,\n",
              " 'huge': 5,\n",
              " 'keeping': 2,\n",
              " 'kept': 4,\n",
              " 'knew': 1,\n",
              " 'mountain': 1,\n",
              " 'person': 3,\n",
              " 'secret': 6,\n",
              " 'went': 1,\n",
              " 'word': 2}"
            ]
          },
          "metadata": {},
          "execution_count": 129
        }
      ]
    },
    {
      "cell_type": "code",
      "source": [
        "sorted_words = sorted(words.items(), key = lambda x: x[1], reverse = True)\n",
        "sorted_words"
      ],
      "metadata": {
        "colab": {
          "base_uri": "https://localhost:8080/"
        },
        "id": "sQCQ1R_VnPab",
        "outputId": "b7a2a567-c188-4e8c-984b-8faa486a81d2"
      },
      "execution_count": 134,
      "outputs": [
        {
          "output_type": "execute_result",
          "data": {
            "text/plain": [
              "[('barber', 8),\n",
              " ('secret', 6),\n",
              " ('huge', 5),\n",
              " ('kept', 4),\n",
              " ('person', 3),\n",
              " ('word', 2),\n",
              " ('keeping', 2),\n",
              " ('good', 1),\n",
              " ('knew', 1),\n",
              " ('driving', 1),\n",
              " ('crazy', 1),\n",
              " ('went', 1),\n",
              " ('mountain', 1)]"
            ]
          },
          "metadata": {},
          "execution_count": 134
        }
      ]
    },
    {
      "cell_type": "code",
      "source": [
        "word_idx = {}\n",
        "i = 0\n",
        "for word, num in sorted_words:\n",
        "    if num > 1:\n",
        "        i += 1\n",
        "        word_idx[word] = i\n",
        "word_idx #vocabrary가 만들어진 것."
      ],
      "metadata": {
        "colab": {
          "base_uri": "https://localhost:8080/"
        },
        "id": "XAzRMmICoL1U",
        "outputId": "bef49976-740e-41a0-f2b0-c046ebc99401"
      },
      "execution_count": 139,
      "outputs": [
        {
          "output_type": "execute_result",
          "data": {
            "text/plain": [
              "{'barber': 1,\n",
              " 'huge': 3,\n",
              " 'keeping': 7,\n",
              " 'kept': 4,\n",
              " 'person': 5,\n",
              " 'secret': 2,\n",
              " 'word': 6}"
            ]
          },
          "metadata": {},
          "execution_count": 139
        }
      ]
    },
    {
      "cell_type": "code",
      "source": [
        "remain_words = 4 #4 단어만 살릴 것\n",
        "remove_data = [word for word, i in word_idx.items() if i > remain_words]\n",
        "for i in remove_data:\n",
        "    del word_idx[i]\n",
        "word_idx"
      ],
      "metadata": {
        "colab": {
          "base_uri": "https://localhost:8080/"
        },
        "id": "10WRbzHjo7Lk",
        "outputId": "987dec37-a191-4b09-c9d5-dd73c4e7f91e"
      },
      "execution_count": 140,
      "outputs": [
        {
          "output_type": "execute_result",
          "data": {
            "text/plain": [
              "{'barber': 1, 'huge': 3, 'kept': 4, 'secret': 2}"
            ]
          },
          "metadata": {},
          "execution_count": 140
        }
      ]
    },
    {
      "cell_type": "code",
      "source": [
        "#out of vocabrary\n",
        "#oov는 아예 없애든가 쓰든가 한다.\n",
        "#oov를 단어취급할거면 단어로 등록. 그럼 가장 큰 숫자값으로 줄 것이다.(가장 큰 숫자가 제일 쓸모없으니)\n",
        "#oov를 사용할거면 단어 인덱스를 잊지 말아야 한다.\n",
        "word_idx['oov'] = len(word_idx) + 1\n",
        "word_idx"
      ],
      "metadata": {
        "colab": {
          "base_uri": "https://localhost:8080/"
        },
        "id": "WJ9S_Da8pzBr",
        "outputId": "0f8d5c5b-ce4f-49c6-a32c-9ecdc7440e88"
      },
      "execution_count": 141,
      "outputs": [
        {
          "output_type": "execute_result",
          "data": {
            "text/plain": [
              "{'barber': 1, 'huge': 3, 'kept': 4, 'oov': 5, 'secret': 2}"
            ]
          },
          "metadata": {},
          "execution_count": 141
        }
      ]
    },
    {
      "cell_type": "code",
      "source": [
        "t_data\n"
      ],
      "metadata": {
        "colab": {
          "base_uri": "https://localhost:8080/"
        },
        "id": "Km95Z8Rjr5QD",
        "outputId": "25c2dd9f-483f-4ab9-8568-6fbc5f23c1fe"
      },
      "execution_count": 142,
      "outputs": [
        {
          "output_type": "execute_result",
          "data": {
            "text/plain": [
              "[['barber', 'person'],\n",
              " ['barber', 'good', 'person'],\n",
              " ['barber', 'huge', 'person'],\n",
              " ['knew', 'secret'],\n",
              " ['secret', 'kept', 'huge', 'secret'],\n",
              " ['huge', 'secret'],\n",
              " ['barber', 'kept', 'word'],\n",
              " ['barber', 'kept', 'word'],\n",
              " ['barber', 'kept', 'secret'],\n",
              " ['keeping', 'keeping', 'huge', 'secret', 'driving', 'barber', 'crazy'],\n",
              " ['barber', 'went', 'huge', 'mountain']]"
            ]
          },
          "metadata": {},
          "execution_count": 142
        }
      ]
    },
    {
      "cell_type": "code",
      "source": [
        "#입력되어있는 단어를 숫자로 바꾼다.\n",
        "ec_data = [] #인코딩 데이터\n",
        "for sentence in t_data:\n",
        "    ec_d = []\n",
        "    for word in sentence:\n",
        "        try:  #빈도수가 적은 단어를 제거해줘서 존재하지 않은 단어를 부르려고 할 때 예외처리를 해주려 한다.\n",
        "            ec_d.append(word_idx[word])\n",
        "        except KeyError:\n",
        "            ec_d.append(word_idx['oov']) #사라졌던 단어들은 모두 oov로 취급\n",
        "    ec_data.append(ec_d)\n",
        "\n",
        "ec_data"
      ],
      "metadata": {
        "colab": {
          "base_uri": "https://localhost:8080/"
        },
        "id": "7XHmSzZ1ruVD",
        "outputId": "6d8a47c4-fe37-4806-8633-b84073d6ee23"
      },
      "execution_count": 143,
      "outputs": [
        {
          "output_type": "execute_result",
          "data": {
            "text/plain": [
              "[[1, 5],\n",
              " [1, 5, 5],\n",
              " [1, 3, 5],\n",
              " [5, 2],\n",
              " [2, 4, 3, 2],\n",
              " [3, 2],\n",
              " [1, 4, 5],\n",
              " [1, 4, 5],\n",
              " [1, 4, 2],\n",
              " [5, 5, 3, 2, 5, 1, 5],\n",
              " [1, 5, 3, 5]]"
            ]
          },
          "metadata": {},
          "execution_count": 143
        }
      ]
    },
    {
      "cell_type": "markdown",
      "source": [
        "Counter 기반 정수 인코딩"
      ],
      "metadata": {
        "id": "lctaG05itT_z"
      }
    },
    {
      "cell_type": "code",
      "source": [
        "from collections import Counter\n",
        "#토큰화가 끝난 데이터.\n",
        "#코퍼스 -> 문장 -> 단어\n",
        "t_data"
      ],
      "metadata": {
        "colab": {
          "base_uri": "https://localhost:8080/"
        },
        "id": "wWslhiNatWKc",
        "outputId": "920a4ed9-2148-4f8d-89a7-e966f7eca926"
      },
      "execution_count": 144,
      "outputs": [
        {
          "output_type": "execute_result",
          "data": {
            "text/plain": [
              "[['barber', 'person'],\n",
              " ['barber', 'good', 'person'],\n",
              " ['barber', 'huge', 'person'],\n",
              " ['knew', 'secret'],\n",
              " ['secret', 'kept', 'huge', 'secret'],\n",
              " ['huge', 'secret'],\n",
              " ['barber', 'kept', 'word'],\n",
              " ['barber', 'kept', 'word'],\n",
              " ['barber', 'kept', 'secret'],\n",
              " ['keeping', 'keeping', 'huge', 'secret', 'driving', 'barber', 'crazy'],\n",
              " ['barber', 'went', 'huge', 'mountain']]"
            ]
          },
          "metadata": {},
          "execution_count": 144
        }
      ]
    },
    {
      "cell_type": "code",
      "source": [
        "단어모두모음 = sum(t_data, [])\n",
        "단어모두모음"
      ],
      "metadata": {
        "colab": {
          "base_uri": "https://localhost:8080/"
        },
        "id": "c8xHGjditf6R",
        "outputId": "551bd43e-6aad-488a-e2be-595166e9f7cb"
      },
      "execution_count": 145,
      "outputs": [
        {
          "output_type": "execute_result",
          "data": {
            "text/plain": [
              "['barber',\n",
              " 'person',\n",
              " 'barber',\n",
              " 'good',\n",
              " 'person',\n",
              " 'barber',\n",
              " 'huge',\n",
              " 'person',\n",
              " 'knew',\n",
              " 'secret',\n",
              " 'secret',\n",
              " 'kept',\n",
              " 'huge',\n",
              " 'secret',\n",
              " 'huge',\n",
              " 'secret',\n",
              " 'barber',\n",
              " 'kept',\n",
              " 'word',\n",
              " 'barber',\n",
              " 'kept',\n",
              " 'word',\n",
              " 'barber',\n",
              " 'kept',\n",
              " 'secret',\n",
              " 'keeping',\n",
              " 'keeping',\n",
              " 'huge',\n",
              " 'secret',\n",
              " 'driving',\n",
              " 'barber',\n",
              " 'crazy',\n",
              " 'barber',\n",
              " 'went',\n",
              " 'huge',\n",
              " 'mountain']"
            ]
          },
          "metadata": {},
          "execution_count": 145
        }
      ]
    },
    {
      "cell_type": "code",
      "source": [
        "end_단어_모음 = Counter(단어모두모음)\n",
        "end_단어_모음"
      ],
      "metadata": {
        "colab": {
          "base_uri": "https://localhost:8080/"
        },
        "id": "DduLGoOyt3bk",
        "outputId": "c926d6c2-bfad-448f-9355-b1fed2ec0f9e"
      },
      "execution_count": 146,
      "outputs": [
        {
          "output_type": "execute_result",
          "data": {
            "text/plain": [
              "Counter({'barber': 8,\n",
              "         'crazy': 1,\n",
              "         'driving': 1,\n",
              "         'good': 1,\n",
              "         'huge': 5,\n",
              "         'keeping': 2,\n",
              "         'kept': 4,\n",
              "         'knew': 1,\n",
              "         'mountain': 1,\n",
              "         'person': 3,\n",
              "         'secret': 6,\n",
              "         'went': 1,\n",
              "         'word': 2})"
            ]
          },
          "metadata": {},
          "execution_count": 146
        }
      ]
    },
    {
      "cell_type": "code",
      "source": [
        "빈도별_단어 = end_단어_모음.most_common(remain_words)\n",
        "빈도별_단어"
      ],
      "metadata": {
        "colab": {
          "base_uri": "https://localhost:8080/"
        },
        "id": "bMpPOM5zt_XM",
        "outputId": "5880eb7f-ab02-4c92-c1c2-e6ca0f38ad0f"
      },
      "execution_count": 147,
      "outputs": [
        {
          "output_type": "execute_result",
          "data": {
            "text/plain": [
              "[('barber', 8), ('secret', 6), ('huge', 5), ('kept', 4)]"
            ]
          },
          "metadata": {},
          "execution_count": 147
        }
      ]
    },
    {
      "cell_type": "code",
      "source": [
        "단어인덱스2 = {}\n",
        "i=0\n",
        "for 단어, 빈도수 in 빈도별_단어:\n",
        "    i += 1\n",
        "    단어인덱스2[단어] = i\n",
        "단어인덱스2"
      ],
      "metadata": {
        "colab": {
          "base_uri": "https://localhost:8080/"
        },
        "id": "6SRZ94YzuY8D",
        "outputId": "971cb90d-d3b7-4152-e65a-0b3b5ce84455"
      },
      "execution_count": 148,
      "outputs": [
        {
          "output_type": "execute_result",
          "data": {
            "text/plain": [
              "{'barber': 1, 'huge': 3, 'kept': 4, 'secret': 2}"
            ]
          },
          "metadata": {},
          "execution_count": 148
        }
      ]
    },
    {
      "cell_type": "code",
      "source": [
        "단어인덱스2['oov'] = len(단어인덱스2) + 1\n",
        "단어인덱스2"
      ],
      "metadata": {
        "colab": {
          "base_uri": "https://localhost:8080/"
        },
        "id": "Iypg3ubzuqXf",
        "outputId": "6ba08502-e279-4b6f-ea5c-3755ca79a779"
      },
      "execution_count": 149,
      "outputs": [
        {
          "output_type": "execute_result",
          "data": {
            "text/plain": [
              "{'barber': 1, 'huge': 3, 'kept': 4, 'oov': 5, 'secret': 2}"
            ]
          },
          "metadata": {},
          "execution_count": 149
        }
      ]
    },
    {
      "cell_type": "code",
      "source": [
        "#입력되어있는 단어를 숫자로 바꾼다.\n",
        "ec_data2 = [] #인코딩 데이터\n",
        "for sentence in t_data:\n",
        "    ec_d = []\n",
        "    for word in sentence:\n",
        "        try:  #빈도수가 적은 단어를 제거해줘서 존재하지 않은 단어를 부르려고 할 때 예외처리를 해주려 한다.\n",
        "            ec_d.append(단어인덱스2[word])\n",
        "        except KeyError:\n",
        "            ec_d.append(단어인덱스2['oov']) #사라졌던 단어들은 모두 oov로 취급\n",
        "    ec_data2.append(ec_d)\n",
        "\n",
        "ec_data2"
      ],
      "metadata": {
        "colab": {
          "base_uri": "https://localhost:8080/"
        },
        "id": "0WHF_LZZuyjM",
        "outputId": "1184d744-7c29-45fc-c1fe-3c52c57f624b"
      },
      "execution_count": 150,
      "outputs": [
        {
          "output_type": "execute_result",
          "data": {
            "text/plain": [
              "[[1, 5],\n",
              " [1, 5, 5],\n",
              " [1, 3, 5],\n",
              " [5, 2],\n",
              " [2, 4, 3, 2],\n",
              " [3, 2],\n",
              " [1, 4, 5],\n",
              " [1, 4, 5],\n",
              " [1, 4, 2],\n",
              " [5, 5, 3, 2, 5, 1, 5],\n",
              " [1, 5, 3, 5]]"
            ]
          },
          "metadata": {},
          "execution_count": 150
        }
      ]
    },
    {
      "cell_type": "markdown",
      "source": [
        "영어 nltk 정수인코딩"
      ],
      "metadata": {
        "id": "29SC9NxuvE3y"
      }
    },
    {
      "cell_type": "code",
      "source": [
        "from nltk import FreqDist\n",
        "import numpy as np"
      ],
      "metadata": {
        "id": "jbG8hwiOvMjt"
      },
      "execution_count": 152,
      "outputs": []
    },
    {
      "cell_type": "code",
      "source": [
        "#토큰화된 데이터\n",
        "t_data"
      ],
      "metadata": {
        "colab": {
          "base_uri": "https://localhost:8080/"
        },
        "id": "VBdoTL1AvVjY",
        "outputId": "4828e317-25e9-4c92-9c0d-1bda41d82f35"
      },
      "execution_count": 153,
      "outputs": [
        {
          "output_type": "execute_result",
          "data": {
            "text/plain": [
              "[['barber', 'person'],\n",
              " ['barber', 'good', 'person'],\n",
              " ['barber', 'huge', 'person'],\n",
              " ['knew', 'secret'],\n",
              " ['secret', 'kept', 'huge', 'secret'],\n",
              " ['huge', 'secret'],\n",
              " ['barber', 'kept', 'word'],\n",
              " ['barber', 'kept', 'word'],\n",
              " ['barber', 'kept', 'secret'],\n",
              " ['keeping', 'keeping', 'huge', 'secret', 'driving', 'barber', 'crazy'],\n",
              " ['barber', 'went', 'huge', 'mountain']]"
            ]
          },
          "metadata": {},
          "execution_count": 153
        }
      ]
    },
    {
      "cell_type": "code",
      "source": [
        ""
      ],
      "metadata": {
        "id": "-MAcQDsdvmmR"
      },
      "execution_count": 156,
      "outputs": []
    },
    {
      "cell_type": "code",
      "source": [
        "단어_모음집 = FreqDist(np.hstack(t_data))\n",
        "단어_모음집"
      ],
      "metadata": {
        "colab": {
          "base_uri": "https://localhost:8080/"
        },
        "id": "synDmavpvdjT",
        "outputId": "2172b601-6339-4208-f90b-beb22280ada0"
      },
      "execution_count": 158,
      "outputs": [
        {
          "output_type": "execute_result",
          "data": {
            "text/plain": [
              "FreqDist({'barber': 8,\n",
              "          'crazy': 1,\n",
              "          'driving': 1,\n",
              "          'good': 1,\n",
              "          'huge': 5,\n",
              "          'keeping': 2,\n",
              "          'kept': 4,\n",
              "          'knew': 1,\n",
              "          'mountain': 1,\n",
              "          'person': 3,\n",
              "          'secret': 6,\n",
              "          'went': 1,\n",
              "          'word': 2})"
            ]
          },
          "metadata": {},
          "execution_count": 158
        }
      ]
    },
    {
      "cell_type": "code",
      "source": [
        "결과_단어_모음집 = 단어_모음집.most_common(remain_words)\n",
        "결과_단어_모음집"
      ],
      "metadata": {
        "colab": {
          "base_uri": "https://localhost:8080/"
        },
        "id": "m81LCKVQv0bM",
        "outputId": "f7cdbea9-af76-49a6-ee1d-d37e278e382d"
      },
      "execution_count": 159,
      "outputs": [
        {
          "output_type": "execute_result",
          "data": {
            "text/plain": [
              "[('barber', 8), ('secret', 6), ('huge', 5), ('kept', 4)]"
            ]
          },
          "metadata": {},
          "execution_count": 159
        }
      ]
    },
    {
      "cell_type": "markdown",
      "source": [
        "데이터 전처리"
      ],
      "metadata": {
        "id": "XBJZVaknwDIW"
      }
    },
    {
      "cell_type": "code",
      "source": [
        "from tensorflow.keras.preprocessing.text import Tokenizer"
      ],
      "metadata": {
        "id": "eaFRtPqiwD62"
      },
      "execution_count": 160,
      "outputs": []
    },
    {
      "cell_type": "code",
      "source": [
        "ck_t = Tokenizer()\n",
        "ck_t.fit_on_texts(t_data)\n",
        "print(ck_t.word_index)\n",
        "print(ck_t.word_counts)"
      ],
      "metadata": {
        "colab": {
          "base_uri": "https://localhost:8080/"
        },
        "id": "p4KMtGAtwO9E",
        "outputId": "84c79123-21ec-4432-c36c-a8736c720d53"
      },
      "execution_count": 161,
      "outputs": [
        {
          "output_type": "stream",
          "name": "stdout",
          "text": [
            "{'barber': 1, 'secret': 2, 'huge': 3, 'kept': 4, 'person': 5, 'word': 6, 'keeping': 7, 'good': 8, 'knew': 9, 'driving': 10, 'crazy': 11, 'went': 12, 'mountain': 13}\n",
            "OrderedDict([('barber', 8), ('person', 3), ('good', 1), ('huge', 5), ('knew', 1), ('secret', 6), ('kept', 4), ('word', 2), ('keeping', 2), ('driving', 1), ('crazy', 1), ('went', 1), ('mountain', 1)])\n"
          ]
        }
      ]
    },
    {
      "cell_type": "code",
      "source": [
        "tr_data = ck_t.texts_to_sequences(t_data)\n",
        "tr_data"
      ],
      "metadata": {
        "colab": {
          "base_uri": "https://localhost:8080/"
        },
        "id": "K7g1M4Ikws57",
        "outputId": "c3e2ebb4-de79-4d52-f6c9-94026db0010e"
      },
      "execution_count": 162,
      "outputs": [
        {
          "output_type": "execute_result",
          "data": {
            "text/plain": [
              "[[1, 5],\n",
              " [1, 8, 5],\n",
              " [1, 3, 5],\n",
              " [9, 2],\n",
              " [2, 4, 3, 2],\n",
              " [3, 2],\n",
              " [1, 4, 6],\n",
              " [1, 4, 6],\n",
              " [1, 4, 2],\n",
              " [7, 7, 3, 2, 10, 1, 11],\n",
              " [1, 12, 3, 13]]"
            ]
          },
          "metadata": {},
          "execution_count": 162
        }
      ]
    },
    {
      "cell_type": "code",
      "source": [
        "remain_words"
      ],
      "metadata": {
        "colab": {
          "base_uri": "https://localhost:8080/"
        },
        "id": "TYiTPnilzHce",
        "outputId": "d652c09d-a991-4799-dcb4-52dd266a6e04"
      },
      "execution_count": 165,
      "outputs": [
        {
          "output_type": "execute_result",
          "data": {
            "text/plain": [
              "4"
            ]
          },
          "metadata": {},
          "execution_count": 165
        }
      ]
    },
    {
      "cell_type": "code",
      "source": [
        "'''Tokenizer()\n",
        "num_words=None, \n",
        "filters='!\"#$%&()*+,-./:;<=>?@[\\\\]^_`{|}~\\t\\n', 없앨 문자\n",
        "lower=True, 소문자\n",
        "split=' ', 자를 것 기준\n",
        "char_level=False, \n",
        "oov_token=None, oov를 쓸 것인가\n",
        "document_count=0'''"
      ],
      "metadata": {
        "id": "QKadCf1bztoT"
      },
      "execution_count": null,
      "outputs": []
    },
    {
      "cell_type": "code",
      "source": [
        "test=Tokenizer(num_words=remain_words+2,oov_token='oov') #0의 값은 무조건 배제된 oov가 차지, oov_token을 활성화하면 그것이 1로 고정된다.\n",
        "test.fit_on_texts(t_data)\n",
        "test.texts_to_sequences(t_data)"
      ],
      "metadata": {
        "colab": {
          "base_uri": "https://localhost:8080/"
        },
        "id": "ElU5nfqd3UEY",
        "outputId": "c8b4aa2f-95a9-491c-a1c7-9602e042cb85"
      },
      "execution_count": 169,
      "outputs": [
        {
          "output_type": "execute_result",
          "data": {
            "text/plain": [
              "[[2, 1],\n",
              " [2, 1, 1],\n",
              " [2, 4, 1],\n",
              " [1, 3],\n",
              " [3, 5, 4, 3],\n",
              " [4, 3],\n",
              " [2, 5, 1],\n",
              " [2, 5, 1],\n",
              " [2, 5, 3],\n",
              " [1, 1, 4, 3, 1, 2, 1],\n",
              " [2, 1, 4, 1]]"
            ]
          },
          "metadata": {},
          "execution_count": 169
        }
      ]
    },
    {
      "cell_type": "code",
      "source": [
        "t_data"
      ],
      "metadata": {
        "colab": {
          "base_uri": "https://localhost:8080/"
        },
        "id": "t4dtmxm83YXs",
        "outputId": "93fc1041-cceb-4f34-f7c1-671292908823"
      },
      "execution_count": 170,
      "outputs": [
        {
          "output_type": "execute_result",
          "data": {
            "text/plain": [
              "[['barber', 'person'],\n",
              " ['barber', 'good', 'person'],\n",
              " ['barber', 'huge', 'person'],\n",
              " ['knew', 'secret'],\n",
              " ['secret', 'kept', 'huge', 'secret'],\n",
              " ['huge', 'secret'],\n",
              " ['barber', 'kept', 'word'],\n",
              " ['barber', 'kept', 'word'],\n",
              " ['barber', 'kept', 'secret'],\n",
              " ['keeping', 'keeping', 'huge', 'secret', 'driving', 'barber', 'crazy'],\n",
              " ['barber', 'went', 'huge', 'mountain']]"
            ]
          },
          "metadata": {},
          "execution_count": 170
        }
      ]
    },
    {
      "cell_type": "code",
      "source": [
        "test.word_index,test.word_counts"
      ],
      "metadata": {
        "colab": {
          "base_uri": "https://localhost:8080/"
        },
        "id": "Qj02Qb2A3acl",
        "outputId": "5cf6851d-eee0-4f03-af4c-f99a4b8391ec"
      },
      "execution_count": 171,
      "outputs": [
        {
          "output_type": "execute_result",
          "data": {
            "text/plain": [
              "({'barber': 2,\n",
              "  'crazy': 12,\n",
              "  'driving': 11,\n",
              "  'good': 9,\n",
              "  'huge': 4,\n",
              "  'keeping': 8,\n",
              "  'kept': 5,\n",
              "  'knew': 10,\n",
              "  'mountain': 14,\n",
              "  'oov': 1,\n",
              "  'person': 6,\n",
              "  'secret': 3,\n",
              "  'went': 13,\n",
              "  'word': 7},\n",
              " OrderedDict([('barber', 8),\n",
              "              ('person', 3),\n",
              "              ('good', 1),\n",
              "              ('huge', 5),\n",
              "              ('knew', 1),\n",
              "              ('secret', 6),\n",
              "              ('kept', 4),\n",
              "              ('word', 2),\n",
              "              ('keeping', 2),\n",
              "              ('driving', 1),\n",
              "              ('crazy', 1),\n",
              "              ('went', 1),\n",
              "              ('mountain', 1)]))"
            ]
          },
          "metadata": {},
          "execution_count": 171
        }
      ]
    },
    {
      "cell_type": "markdown",
      "source": [
        "케라스 전처리기 이용해서 정리"
      ],
      "metadata": {
        "id": "DuoqXY5B4ndb"
      }
    },
    {
      "cell_type": "markdown",
      "source": [
        "데이터 수집(코퍼스 수집)"
      ],
      "metadata": {
        "id": "1CEW5HbI3kWz"
      }
    },
    {
      "cell_type": "code",
      "source": [
        "text = \"A barber is a person. a barber is good person. a barber is huge person. he Knew A Secret! The Secret He Kept is huge secret. Huge secret. His barber kept his word. a barber kept his word. His barber kept his secret. But keeping and keeping such a huge secret to himself was driving the barber crazy. the barber went up a huge mountain.\""
      ],
      "metadata": {
        "id": "yr0U32AR3l3H"
      },
      "execution_count": 172,
      "outputs": []
    },
    {
      "cell_type": "markdown",
      "source": [
        "토큰화"
      ],
      "metadata": {
        "id": "_2WzGYrv3sCK"
      }
    },
    {
      "cell_type": "code",
      "source": [
        "from nltk.tokenize import sent_tokenize, word_tokenize\n",
        "from nltk.tokenize import word_tokenize\n",
        "from nltk.corpus import stopwords"
      ],
      "metadata": {
        "id": "gDEFRnV43rjU"
      },
      "execution_count": 173,
      "outputs": []
    },
    {
      "cell_type": "code",
      "source": [
        "#문장토큰화\n",
        "tk_d = sent_tokenize(text)\n",
        "nltk.download('stopwords')\n",
        "words = {}\n",
        "t_data = []\n",
        "sw = set(stopwords.words('english'))\n",
        "for s in tk_d:\n",
        "    words_info = word_tokenize(s)\n",
        "    l = []\n",
        "    for word in words_info:\n",
        "        lower_word = word.lower()\n",
        "        if lower_word not in sw:\n",
        "            if len(lower_word) > 2: #두글자 이하는 큰 의미가 없는 단어이기 때문에 걸러주려 한다.\n",
        "                l.append(lower_word)\n",
        "                if lower_word not in words:\n",
        "                    words[lower_word] = 0\n",
        "                words[lower_word] += 1  #단어모음집 word 딕셔너리에 단어의 수를 늘려준다.\n",
        "    t_data.append(l)\n",
        "t_data"
      ],
      "metadata": {
        "colab": {
          "base_uri": "https://localhost:8080/"
        },
        "id": "LPVQWOrg3ym8",
        "outputId": "600a9387-ce02-4659-dbb7-eac3b4cf9862"
      },
      "execution_count": 174,
      "outputs": [
        {
          "output_type": "stream",
          "name": "stderr",
          "text": [
            "[nltk_data] Downloading package stopwords to /root/nltk_data...\n",
            "[nltk_data]   Package stopwords is already up-to-date!\n"
          ]
        },
        {
          "output_type": "execute_result",
          "data": {
            "text/plain": [
              "[['barber', 'person'],\n",
              " ['barber', 'good', 'person'],\n",
              " ['barber', 'huge', 'person'],\n",
              " ['knew', 'secret'],\n",
              " ['secret', 'kept', 'huge', 'secret'],\n",
              " ['huge', 'secret'],\n",
              " ['barber', 'kept', 'word'],\n",
              " ['barber', 'kept', 'word'],\n",
              " ['barber', 'kept', 'secret'],\n",
              " ['keeping', 'keeping', 'huge', 'secret', 'driving', 'barber', 'crazy'],\n",
              " ['barber', 'went', 'huge', 'mountain']]"
            ]
          },
          "metadata": {},
          "execution_count": 174
        }
      ]
    },
    {
      "cell_type": "markdown",
      "source": [
        "정수 인코딩"
      ],
      "metadata": {
        "id": "VtvSPLcl4pek"
      }
    },
    {
      "cell_type": "code",
      "source": [
        "from tensorflow.keras.preprocessing.text import Tokenizer\n",
        "tk = Tokenizer()\n",
        "tk.fit_on_texts(t_data)\n",
        "ec_data = tk.texts_to_sequences(t_data)\n",
        "ec_data"
      ],
      "metadata": {
        "colab": {
          "base_uri": "https://localhost:8080/"
        },
        "id": "1ABv1K6S4ik0",
        "outputId": "7b27127f-9417-4855-f8e6-1d4b74bd876d"
      },
      "execution_count": 175,
      "outputs": [
        {
          "output_type": "execute_result",
          "data": {
            "text/plain": [
              "[[1, 5],\n",
              " [1, 8, 5],\n",
              " [1, 3, 5],\n",
              " [9, 2],\n",
              " [2, 4, 3, 2],\n",
              " [3, 2],\n",
              " [1, 4, 6],\n",
              " [1, 4, 6],\n",
              " [1, 4, 2],\n",
              " [7, 7, 3, 2, 10, 1, 11],\n",
              " [1, 12, 3, 13]]"
            ]
          },
          "metadata": {},
          "execution_count": 175
        }
      ]
    },
    {
      "cell_type": "markdown",
      "source": [
        "패딩"
      ],
      "metadata": {
        "id": "FM2AyHWc5eVl"
      }
    },
    {
      "cell_type": "code",
      "source": [
        "from tensorflow.keras.preprocessing.sequence import pad_sequences\n",
        "end_data = pad_sequences(ec_data)\n",
        "end_data"
      ],
      "metadata": {
        "colab": {
          "base_uri": "https://localhost:8080/"
        },
        "id": "84DfMU2e5YSs",
        "outputId": "128072d5-525c-4825-98d9-ce887e9dcdd9"
      },
      "execution_count": 178,
      "outputs": [
        {
          "output_type": "execute_result",
          "data": {
            "text/plain": [
              "array([[ 0,  0,  0,  0,  0,  1,  5],\n",
              "       [ 0,  0,  0,  0,  1,  8,  5],\n",
              "       [ 0,  0,  0,  0,  1,  3,  5],\n",
              "       [ 0,  0,  0,  0,  0,  9,  2],\n",
              "       [ 0,  0,  0,  2,  4,  3,  2],\n",
              "       [ 0,  0,  0,  0,  0,  3,  2],\n",
              "       [ 0,  0,  0,  0,  1,  4,  6],\n",
              "       [ 0,  0,  0,  0,  1,  4,  6],\n",
              "       [ 0,  0,  0,  0,  1,  4,  2],\n",
              "       [ 7,  7,  3,  2, 10,  1, 11],\n",
              "       [ 0,  0,  0,  1, 12,  3, 13]], dtype=int32)"
            ]
          },
          "metadata": {},
          "execution_count": 178
        }
      ]
    },
    {
      "cell_type": "code",
      "source": [
        "end_data = pad_sequences(ec_data, padding='post') # 기본값은 뒤쪽. 데이터를 어디로 채울 것인지 정함\n",
        "end_data"
      ],
      "metadata": {
        "colab": {
          "base_uri": "https://localhost:8080/"
        },
        "id": "42vaHP6O5-xV",
        "outputId": "4f75213d-0ee5-4048-cee8-5aaffc91181b"
      },
      "execution_count": 179,
      "outputs": [
        {
          "output_type": "execute_result",
          "data": {
            "text/plain": [
              "array([[ 1,  5,  0,  0,  0,  0,  0],\n",
              "       [ 1,  8,  5,  0,  0,  0,  0],\n",
              "       [ 1,  3,  5,  0,  0,  0,  0],\n",
              "       [ 9,  2,  0,  0,  0,  0,  0],\n",
              "       [ 2,  4,  3,  2,  0,  0,  0],\n",
              "       [ 3,  2,  0,  0,  0,  0,  0],\n",
              "       [ 1,  4,  6,  0,  0,  0,  0],\n",
              "       [ 1,  4,  6,  0,  0,  0,  0],\n",
              "       [ 1,  4,  2,  0,  0,  0,  0],\n",
              "       [ 7,  7,  3,  2, 10,  1, 11],\n",
              "       [ 1, 12,  3, 13,  0,  0,  0]], dtype=int32)"
            ]
          },
          "metadata": {},
          "execution_count": 179
        }
      ]
    },
    {
      "cell_type": "code",
      "source": [
        "end_data = pad_sequences(ec_data,padding='post', maxlen=4) #잘릴 때는 앞에서부터. 걍 채우든 지우든 앞에서부터라고 생각하면 될듯\n",
        "end_data"
      ],
      "metadata": {
        "colab": {
          "base_uri": "https://localhost:8080/"
        },
        "id": "14ChaK9R6O38",
        "outputId": "6e83e47e-b340-4a49-b0ff-4f0e80b79e2b"
      },
      "execution_count": 180,
      "outputs": [
        {
          "output_type": "execute_result",
          "data": {
            "text/plain": [
              "array([[ 1,  5,  0,  0],\n",
              "       [ 1,  8,  5,  0],\n",
              "       [ 1,  3,  5,  0],\n",
              "       [ 9,  2,  0,  0],\n",
              "       [ 2,  4,  3,  2],\n",
              "       [ 3,  2,  0,  0],\n",
              "       [ 1,  4,  6,  0],\n",
              "       [ 1,  4,  6,  0],\n",
              "       [ 1,  4,  2,  0],\n",
              "       [ 2, 10,  1, 11],\n",
              "       [ 1, 12,  3, 13]], dtype=int32)"
            ]
          },
          "metadata": {},
          "execution_count": 180
        }
      ]
    },
    {
      "cell_type": "code",
      "source": [
        "end_data = pad_sequences(ec_data,padding='post', maxlen=4, truncating='post') \n",
        "end_data"
      ],
      "metadata": {
        "colab": {
          "base_uri": "https://localhost:8080/"
        },
        "id": "RaRRSyQ26oz0",
        "outputId": "b01524c0-5ba2-4966-bb42-8224ad474ff1"
      },
      "execution_count": 181,
      "outputs": [
        {
          "output_type": "execute_result",
          "data": {
            "text/plain": [
              "array([[ 1,  5,  0,  0],\n",
              "       [ 1,  8,  5,  0],\n",
              "       [ 1,  3,  5,  0],\n",
              "       [ 9,  2,  0,  0],\n",
              "       [ 2,  4,  3,  2],\n",
              "       [ 3,  2,  0,  0],\n",
              "       [ 1,  4,  6,  0],\n",
              "       [ 1,  4,  6,  0],\n",
              "       [ 1,  4,  2,  0],\n",
              "       [ 7,  7,  3,  2],\n",
              "       [ 1, 12,  3, 13]], dtype=int32)"
            ]
          },
          "metadata": {},
          "execution_count": 181
        }
      ]
    },
    {
      "cell_type": "code",
      "source": [
        "v = len(tk.word_index) + 1 #oov의 인덱스\n",
        "end_data = pad_sequences(ec_data,padding='post', maxlen=4, truncating='post', value=v)  #oov의 값(인덱스값)을 걍 제일 마지막 인덱스로 지정\n",
        "end_data"
      ],
      "metadata": {
        "colab": {
          "base_uri": "https://localhost:8080/"
        },
        "id": "gnOW1MPV7n30",
        "outputId": "c25c440e-baa9-4ab7-8850-ae518ce2ad39"
      },
      "execution_count": 182,
      "outputs": [
        {
          "output_type": "execute_result",
          "data": {
            "text/plain": [
              "array([[ 1,  5, 14, 14],\n",
              "       [ 1,  8,  5, 14],\n",
              "       [ 1,  3,  5, 14],\n",
              "       [ 9,  2, 14, 14],\n",
              "       [ 2,  4,  3,  2],\n",
              "       [ 3,  2, 14, 14],\n",
              "       [ 1,  4,  6, 14],\n",
              "       [ 1,  4,  6, 14],\n",
              "       [ 1,  4,  2, 14],\n",
              "       [ 7,  7,  3,  2],\n",
              "       [ 1, 12,  3, 13]], dtype=int32)"
            ]
          },
          "metadata": {},
          "execution_count": 182
        }
      ]
    },
    {
      "cell_type": "markdown",
      "source": [
        "한국어."
      ],
      "metadata": {
        "id": "sTaRaPfK8ieV"
      }
    },
    {
      "cell_type": "code",
      "source": [
        "k_data = '오늘은 시간이 빠르게 가네요'\n",
        "from tensorflow.keras.preprocessing.text import Tokenizer\n",
        "k_tk = Tokenizer()\n",
        "k_tk.fit_on_texts([k_data]) #한 차원 올려야 단어로 나눠줌\n",
        "k_tk.index_word #인덱스:단어."
      ],
      "metadata": {
        "colab": {
          "base_uri": "https://localhost:8080/"
        },
        "id": "KmDWmZdW8hI9",
        "outputId": "961fd2b1-f9e6-418e-8f12-c719d10a9287"
      },
      "execution_count": 187,
      "outputs": [
        {
          "output_type": "execute_result",
          "data": {
            "text/plain": [
              "{1: '오늘은', 2: '시간이', 3: '빠르게', 4: '가네요'}"
            ]
          },
          "metadata": {},
          "execution_count": 187
        }
      ]
    },
    {
      "cell_type": "code",
      "source": [
        "txt = '오늘은 이상하게 피곤 하네요 그런데 시간은 느리게 가네요'\n",
        "k_tk.texts_to_sequences([txt]) #있는 데이터는 미리 학습된 vocabulary에 해당하는 인덱스로 변환, 없는 단어는 사라짐"
      ],
      "metadata": {
        "colab": {
          "base_uri": "https://localhost:8080/"
        },
        "id": "Qaa16E979YH-",
        "outputId": "e0f23f2d-2d8c-4427-bffa-67c05b64ce7b"
      },
      "execution_count": 188,
      "outputs": [
        {
          "output_type": "execute_result",
          "data": {
            "text/plain": [
              "[[1, 4]]"
            ]
          },
          "metadata": {},
          "execution_count": 188
        }
      ]
    }
  ]
}