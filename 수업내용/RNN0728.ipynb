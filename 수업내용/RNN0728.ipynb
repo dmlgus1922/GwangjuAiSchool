{
  "nbformat": 4,
  "nbformat_minor": 0,
  "metadata": {
    "colab": {
      "name": "RNN0728.ipynb",
      "provenance": []
    },
    "kernelspec": {
      "name": "python3",
      "display_name": "Python 3"
    },
    "language_info": {
      "name": "python"
    }
  },
  "cells": [
    {
      "cell_type": "code",
      "execution_count": 2,
      "metadata": {
        "id": "Xag9SNc63kwO"
      },
      "outputs": [],
      "source": [
        "import tensorflow as tf\n",
        "tf.keras.utils.set_random_seed(42)\n",
        "tf.config.experimental.enable_op_determinism()"
      ]
    },
    {
      "cell_type": "code",
      "source": [
        "from keras.datasets import imdb #리뷰 데이터\n",
        "(X_data, y_data),(tt_x, tt_y)=imdb.load_data(num_words = 500)\n",
        "#가장 많이 등장한 500종의 단어만 남기려는 parameter\n",
        "#그러다 비어있는 데이터가 등장할 수도 있다."
      ],
      "metadata": {
        "colab": {
          "base_uri": "https://localhost:8080/"
        },
        "id": "i7YvYTd-37Qo",
        "outputId": "1b382d9b-e3b3-4a0f-c9a5-5d41936527ef"
      },
      "execution_count": 3,
      "outputs": [
        {
          "output_type": "stream",
          "name": "stdout",
          "text": [
            "Downloading data from https://storage.googleapis.com/tensorflow/tf-keras-datasets/imdb.npz\n",
            "17465344/17464789 [==============================] - 0s 0us/step\n",
            "17473536/17464789 [==============================] - 0s 0us/step\n"
          ]
        }
      ]
    },
    {
      "cell_type": "code",
      "source": [
        "X_data.shape, y_data.shape, tt_x.shape, tt_y.shape"
      ],
      "metadata": {
        "colab": {
          "base_uri": "https://localhost:8080/"
        },
        "id": "s83nXzLj5BY0",
        "outputId": "3c901b3c-5995-4b41-c96f-b2e486cdb80a"
      },
      "execution_count": 5,
      "outputs": [
        {
          "output_type": "execute_result",
          "data": {
            "text/plain": [
              "((25000,), (25000,), (25000,), (25000,))"
            ]
          },
          "metadata": {},
          "execution_count": 5
        }
      ]
    },
    {
      "cell_type": "code",
      "source": [
        "len(X_data[0]), len(X_data[1])\n",
        "#단어 개수가 다른 문장들"
      ],
      "metadata": {
        "colab": {
          "base_uri": "https://localhost:8080/"
        },
        "id": "ECkPL3YJ6D8i",
        "outputId": "74b6b549-8968-4ad7-83db-c1615d975473"
      },
      "execution_count": 8,
      "outputs": [
        {
          "output_type": "execute_result",
          "data": {
            "text/plain": [
              "(218, 189)"
            ]
          },
          "metadata": {},
          "execution_count": 8
        }
      ]
    },
    {
      "cell_type": "code",
      "source": [
        "y_data"
      ],
      "metadata": {
        "colab": {
          "base_uri": "https://localhost:8080/"
        },
        "id": "7WNaZzrrOkm-",
        "outputId": "12427531-a8a3-4b8f-eb42-cdc01b9a851b"
      },
      "execution_count": 21,
      "outputs": [
        {
          "output_type": "execute_result",
          "data": {
            "text/plain": [
              "array([1, 0, 0, ..., 0, 1, 0])"
            ]
          },
          "metadata": {},
          "execution_count": 21
        }
      ]
    },
    {
      "cell_type": "code",
      "source": [
        "m = 100000000\n",
        "for i in range(len(X_data)):\n",
        "    m = min(min(X_data[i]), m)\n",
        "print(m)"
      ],
      "metadata": {
        "colab": {
          "base_uri": "https://localhost:8080/"
        },
        "id": "WhOUaOVc6Ez_",
        "outputId": "6188ee20-56da-46e4-ff0f-fbfbc2d52967"
      },
      "execution_count": 45,
      "outputs": [
        {
          "output_type": "stream",
          "name": "stdout",
          "text": [
            "1\n"
          ]
        }
      ]
    },
    {
      "cell_type": "code",
      "source": [
        "from sklearn.model_selection import train_test_split\n",
        "t_x, v_x, t_y, v_y=train_test_split(X_data, y_data, test_size = 0.2, random_state = 42)"
      ],
      "metadata": {
        "id": "QQVg9qQ-O0vd"
      },
      "execution_count": 23,
      "outputs": []
    },
    {
      "cell_type": "code",
      "source": [
        "t_x.shape, v_x.shape, t_y.shape, v_y.shape"
      ],
      "metadata": {
        "colab": {
          "base_uri": "https://localhost:8080/"
        },
        "id": "Q3bpHaeKPKw8",
        "outputId": "77c9a8bd-06fa-4c50-8485-c614a7449c59"
      },
      "execution_count": 24,
      "outputs": [
        {
          "output_type": "execute_result",
          "data": {
            "text/plain": [
              "((20000,), (5000,), (20000,), (5000,))"
            ]
          },
          "metadata": {},
          "execution_count": 24
        }
      ]
    },
    {
      "cell_type": "code",
      "source": [
        "import numpy as np\n",
        "l = np.array([len(x) for x in t_x])\n"
      ],
      "metadata": {
        "id": "8v0OLH6IPgYE"
      },
      "execution_count": 30,
      "outputs": []
    },
    {
      "cell_type": "code",
      "source": [
        "np.mean(l), np.median(l)"
      ],
      "metadata": {
        "colab": {
          "base_uri": "https://localhost:8080/"
        },
        "id": "4IBpZFjUQA-9",
        "outputId": "a3f3ba72-e78d-442d-de04-407d82a34565"
      },
      "execution_count": 31,
      "outputs": [
        {
          "output_type": "execute_result",
          "data": {
            "text/plain": [
              "(239.00925, 178.0)"
            ]
          },
          "metadata": {},
          "execution_count": 31
        }
      ]
    },
    {
      "cell_type": "code",
      "source": [
        "import matplotlib.pyplot as plt\n",
        "plt.hist(l)"
      ],
      "metadata": {
        "colab": {
          "base_uri": "https://localhost:8080/",
          "height": 356
        },
        "id": "5Y9zjbouQacM",
        "outputId": "e19c4015-8c8c-45bc-a210-7b3b1f14b185"
      },
      "execution_count": 32,
      "outputs": [
        {
          "output_type": "execute_result",
          "data": {
            "text/plain": [
              "(array([1.1149e+04, 5.7490e+03, 1.8590e+03, 7.3200e+02, 3.0600e+02,\n",
              "        1.8800e+02, 6.0000e+00, 4.0000e+00, 4.0000e+00, 3.0000e+00]),\n",
              " array([  11. ,  195.3,  379.6,  563.9,  748.2,  932.5, 1116.8, 1301.1,\n",
              "        1485.4, 1669.7, 1854. ]),\n",
              " <a list of 10 Patch objects>)"
            ]
          },
          "metadata": {},
          "execution_count": 32
        },
        {
          "output_type": "display_data",
          "data": {
            "text/plain": [
              "<Figure size 432x288 with 1 Axes>"
            ],
            "image/png": "[encoded data removed]"
          },
          "metadata": {
            "needs_background": "light"
          }
        }
      ]
    },
    {
      "cell_type": "code",
      "source": [
        "from keras.preprocessing.sequence import pad_sequences #원하는 사이즈로 자르는 도구\n",
        "#기본값이 max padding\n",
        "#각 원소가 가장 긴 길이를 가진 원소만큼의 길이로 원소를 가짐. 비어있는 부분은 0으로\n",
        "#보통 뒤쪽의 데이터가 더 중요하다고 생각하므로(보통의 문장들이 미괄식.) 뒤쪽 데이터를 살리는 방향으로 데이터를 자르거나 늘린다\n",
        "ck_x = pad_sequences(t_x, maxlen=100)\n"
      ],
      "metadata": {
        "colab": {
          "base_uri": "https://localhost:8080/"
        },
        "id": "PTuSyeJGQ-fu",
        "outputId": "59ac457c-0ef2-4e7a-efda-12a20e4f7f19"
      },
      "execution_count": 40,
      "outputs": [
        {
          "output_type": "execute_result",
          "data": {
            "text/plain": [
              "(20000, 100)"
            ]
          },
          "metadata": {},
          "execution_count": 40
        }
      ]
    },
    {
      "cell_type": "code",
      "source": [
        "print(t_x[0])"
      ],
      "metadata": {
        "colab": {
          "base_uri": "https://localhost:8080/"
        },
        "id": "PN6pbYD5R3x9",
        "outputId": "22794c4f-38cc-4323-9373-d9004df4e6b2"
      },
      "execution_count": 35,
      "outputs": [
        {
          "output_type": "stream",
          "name": "stdout",
          "text": [
            "[1, 73, 89, 81, 25, 60, 2, 6, 20, 141, 17, 14, 31, 127, 12, 60, 28, 2, 2, 66, 45, 6, 20, 15, 497, 8, 79, 17, 491, 8, 112, 6, 2, 20, 17, 2, 2, 4, 436, 20, 9, 2, 6, 2, 7, 493, 2, 6, 185, 250, 24, 55, 2, 5, 23, 350, 7, 15, 82, 24, 15, 2, 66, 10, 10, 45, 2, 15, 4, 20, 2, 8, 30, 17, 2, 5, 2, 17, 2, 190, 4, 20, 9, 43, 32, 99, 2, 18, 15, 8, 157, 46, 17, 2, 4, 2, 5, 2, 9, 32, 2, 5, 2, 267, 17, 73, 17, 2, 36, 26, 400, 43, 2, 83, 4, 2, 247, 74, 83, 4, 250, 2, 82, 4, 96, 4, 250, 2, 8, 32, 4, 2, 9, 184, 2, 13, 384, 48, 14, 16, 147, 2, 59, 62, 69, 2, 12, 46, 50, 9, 53, 2, 74, 2, 11, 14, 31, 151, 10, 10, 4, 20, 9, 2, 364, 352, 5, 45, 6, 2, 2, 33, 269, 8, 2, 142, 2, 5, 2, 17, 73, 17, 204, 5, 2, 19, 55, 2, 2, 92, 66, 104, 14, 20, 93, 76, 2, 151, 33, 4, 58, 12, 188, 2, 151, 12, 215, 69, 224, 142, 73, 237, 6, 2, 7, 2, 2, 188, 2, 103, 14, 31, 10, 10, 451, 7, 2, 5, 2, 80, 91, 2, 30, 2, 34, 14, 20, 151, 50, 26, 131, 49, 2, 84, 46, 50, 37, 80, 79, 6, 2, 46, 7, 14, 20, 10, 10, 470, 158]\n"
          ]
        }
      ]
    },
    {
      "cell_type": "code",
      "source": [
        ""
      ],
      "metadata": {
        "colab": {
          "base_uri": "https://localhost:8080/"
        },
        "id": "j0M4sBl7SK10",
        "outputId": "026d509e-cac7-4d30-9d1d-434838fe5e1b"
      },
      "execution_count": 38,
      "outputs": [
        {
          "output_type": "stream",
          "name": "stdout",
          "text": [
            "[ 10   4  20   9   2 364 352   5  45   6   2   2  33 269   8   2 142   2\n",
            "   5   2  17  73  17 204   5   2  19  55   2   2  92  66 104  14  20  93\n",
            "  76   2 151  33   4  58  12 188   2 151  12 215  69 224 142  73 237   6\n",
            "   2   7   2   2 188   2 103  14  31  10  10 451   7   2   5   2  80  91\n",
            "   2  30   2  34  14  20 151  50  26 131  49   2  84  46  50  37  80  79\n",
            "   6   2  46   7  14  20  10  10 470 158]\n"
          ]
        }
      ]
    },
    {
      "cell_type": "code",
      "source": [
        "from keras import Sequential\n",
        "from keras.layers import SimpleRNN, Dense\n",
        "m=Sequential()\n",
        "m.add(SimpleRNN(8,input_shape=(100,500))) #주요 단어 수도 같이 줘야함. 단어의 가짓수\n",
        "m.add(Dense(1,activation = 'sigmoid'))"
      ],
      "metadata": {
        "id": "8rWnFMRFS6Xl"
      },
      "execution_count": 39,
      "outputs": []
    },
    {
      "cell_type": "code",
      "source": [
        "from keras.utils.np_utils import to_categorical\n",
        "c_t_x = to_categorical(ck_x)\n",
        "c_t_x.shape"
      ],
      "metadata": {
        "colab": {
          "base_uri": "https://localhost:8080/"
        },
        "id": "BlVJsOePUo3K",
        "outputId": "009addbf-c331-4ec3-cff1-d6ef8e9a3dd1"
      },
      "execution_count": 42,
      "outputs": [
        {
          "output_type": "execute_result",
          "data": {
            "text/plain": [
              "(20000, 100, 500)"
            ]
          },
          "metadata": {},
          "execution_count": 42
        }
      ]
    },
    {
      "cell_type": "code",
      "source": [
        "c_t_x[0][0]"
      ],
      "metadata": {
        "id": "P_gecGc5VX4k"
      },
      "execution_count": null,
      "outputs": []
    },
    {
      "cell_type": "code",
      "source": [
        "c_v_x = c_v_x.to_categorical(v_x)"
      ],
      "metadata": {
        "id": "YjRWZgOjXNw-"
      },
      "execution_count": null,
      "outputs": []
    },
    {
      "cell_type": "markdown",
      "source": [
        "데이터 수집"
      ],
      "metadata": {
        "id": "VJftXxGIXb5s"
      }
    },
    {
      "cell_type": "code",
      "source": [
        "from keras.datasets import imdb #리뷰 데이터\n",
        "(X_data, y_data),(tt_x, tt_y)=imdb.load_data(num_words = 500)\n",
        "#가장 많이 등장한 500종의 단어만 남기려는 parameter\n",
        "#그러다 비어있는 데이터가 등장할 수도 있다."
      ],
      "metadata": {
        "id": "aZL4Kwt-XbXN"
      },
      "execution_count": 1,
      "outputs": []
    },
    {
      "cell_type": "markdown",
      "source": [
        "데이터 전처리"
      ],
      "metadata": {
        "id": "Bd_i-UghXdud"
      }
    },
    {
      "cell_type": "code",
      "source": [
        "from sklearn.model_selection import train_test_split\n",
        "t_x, v_x, t_y, v_y=train_test_split(X_data, y_data, test_size = 0.2, random_state = 42)"
      ],
      "metadata": {
        "id": "JXq-25RtXe7H"
      },
      "execution_count": 2,
      "outputs": []
    },
    {
      "cell_type": "code",
      "source": [
        "from keras.preprocessing.sequence import pad_sequences #원하는 사이즈로 자르는 도구\n",
        "#기본값이 max padding\n",
        "#각 원소가 가장 긴 길이를 가진 원소만큼의 길이로 원소를 가짐. 비어있는 부분은 0으로\n",
        "#보통 뒤쪽의 데이터가 더 중요하다고 생각하므로(보통의 문장들이 미괄식.) 뒤쪽 데이터를 살리는 방향으로 데이터를 자르거나 늘린다\n",
        "ck_t_x = pad_sequences(t_x, maxlen=100)\n",
        "ck_v_x = pad_sequences(v_x, maxlen=100)"
      ],
      "metadata": {
        "id": "caln7SQXXu7U"
      },
      "execution_count": 3,
      "outputs": []
    },
    {
      "cell_type": "code",
      "source": [
        "from keras.utils.np_utils import to_categorical\n",
        "c_t_x = to_categorical(ck_t_x)\n",
        "v_tt_x = to_categorical(ck_v_x)"
      ],
      "metadata": {
        "id": "UTofmbH3XqOF"
      },
      "execution_count": 4,
      "outputs": []
    },
    {
      "cell_type": "code",
      "source": [
        "del m"
      ],
      "metadata": {
        "id": "c4V7BtZifOxF"
      },
      "execution_count": 10,
      "outputs": []
    },
    {
      "cell_type": "code",
      "source": [
        "from keras import Sequential\n",
        "from keras.layers import SimpleRNN, Dense, Embedding\n",
        "from tensorflow.keras.optimizers import SGD, RMSprop, Adam\n",
        "from tensorflow.keras.callbacks import EarlyStopping, ModelCheckpoint\n",
        "m=Sequential()\n",
        "m.add(SimpleRNN(8,input_shape=(100,500))) #주요 단어 수도 같이 줘야함. 단어의 가짓수\n",
        "m.add(Dense(1,activation = 'sigmoid'))"
      ],
      "metadata": {
        "id": "tVN-2_6EY_hj"
      },
      "execution_count": 11,
      "outputs": []
    },
    {
      "cell_type": "code",
      "source": [
        "m.compile(optimizer = RMSprop(learning_rate=0.0001),loss = 'binary_crossentropy', metrics=['accuracy'])\n",
        "es = EarlyStopping(patience = 4, restore_best_weights=True)\n",
        "ck = ModelCheckpoint('m.h5')"
      ],
      "metadata": {
        "id": "hcLC1geHdMla"
      },
      "execution_count": 12,
      "outputs": []
    },
    {
      "cell_type": "code",
      "source": [
        "hy = m.fit(c_t_x, t_y, validation_data = [v_tt_x, v_y], callbacks = [es, ck], batch_size=64, epochs=100)"
      ],
      "metadata": {
        "colab": {
          "base_uri": "https://localhost:8080/"
        },
        "id": "OLV31unFdoIr",
        "outputId": "a17d37d8-64f5-4ad9-f690-51925aea73e2"
      },
      "execution_count": 13,
      "outputs": [
        {
          "output_type": "stream",
          "name": "stdout",
          "text": [
            "Epoch 1/100\n",
            "313/313 [==============================] - 18s 56ms/step - loss: 0.6957 - accuracy: 0.5304 - val_loss: 0.6872 - val_accuracy: 0.5538\n",
            "Epoch 2/100\n",
            "313/313 [==============================] - 24s 75ms/step - loss: 0.6697 - accuracy: 0.5968 - val_loss: 0.6628 - val_accuracy: 0.6146\n",
            "Epoch 3/100\n",
            "313/313 [==============================] - 21s 68ms/step - loss: 0.6512 - accuracy: 0.6378 - val_loss: 0.6458 - val_accuracy: 0.6522\n",
            "Epoch 4/100\n",
            "313/313 [==============================] - 19s 62ms/step - loss: 0.6344 - accuracy: 0.6668 - val_loss: 0.6304 - val_accuracy: 0.6758\n",
            "Epoch 5/100\n",
            "313/313 [==============================] - 13s 42ms/step - loss: 0.6181 - accuracy: 0.6925 - val_loss: 0.6142 - val_accuracy: 0.6954\n",
            "Epoch 6/100\n",
            "313/313 [==============================] - 14s 45ms/step - loss: 0.6033 - accuracy: 0.7067 - val_loss: 0.6008 - val_accuracy: 0.7084\n",
            "Epoch 7/100\n",
            "313/313 [==============================] - 13s 42ms/step - loss: 0.5878 - accuracy: 0.7203 - val_loss: 0.5869 - val_accuracy: 0.7230\n",
            "Epoch 8/100\n",
            "313/313 [==============================] - 13s 43ms/step - loss: 0.5721 - accuracy: 0.7361 - val_loss: 0.5719 - val_accuracy: 0.7346\n",
            "Epoch 9/100\n",
            "313/313 [==============================] - 13s 41ms/step - loss: 0.5588 - accuracy: 0.7433 - val_loss: 0.5590 - val_accuracy: 0.7422\n",
            "Epoch 10/100\n",
            "313/313 [==============================] - 13s 43ms/step - loss: 0.5455 - accuracy: 0.7539 - val_loss: 0.5485 - val_accuracy: 0.7512\n",
            "Epoch 11/100\n",
            "313/313 [==============================] - 13s 41ms/step - loss: 0.5331 - accuracy: 0.7618 - val_loss: 0.5348 - val_accuracy: 0.7574\n",
            "Epoch 12/100\n",
            "313/313 [==============================] - 13s 41ms/step - loss: 0.5213 - accuracy: 0.7673 - val_loss: 0.5243 - val_accuracy: 0.7596\n",
            "Epoch 13/100\n",
            "313/313 [==============================] - 13s 42ms/step - loss: 0.5101 - accuracy: 0.7740 - val_loss: 0.5156 - val_accuracy: 0.7618\n",
            "Epoch 14/100\n",
            "313/313 [==============================] - 14s 45ms/step - loss: 0.4999 - accuracy: 0.7768 - val_loss: 0.5079 - val_accuracy: 0.7688\n",
            "Epoch 15/100\n",
            "313/313 [==============================] - 14s 45ms/step - loss: 0.4901 - accuracy: 0.7839 - val_loss: 0.5005 - val_accuracy: 0.7698\n",
            "Epoch 16/100\n",
            "313/313 [==============================] - 13s 42ms/step - loss: 0.4811 - accuracy: 0.7865 - val_loss: 0.4929 - val_accuracy: 0.7752\n",
            "Epoch 17/100\n",
            "313/313 [==============================] - 13s 42ms/step - loss: 0.4726 - accuracy: 0.7904 - val_loss: 0.4865 - val_accuracy: 0.7796\n",
            "Epoch 18/100\n",
            "313/313 [==============================] - 13s 41ms/step - loss: 0.4651 - accuracy: 0.7950 - val_loss: 0.4823 - val_accuracy: 0.7808\n",
            "Epoch 19/100\n",
            "313/313 [==============================] - 13s 42ms/step - loss: 0.4589 - accuracy: 0.7972 - val_loss: 0.4780 - val_accuracy: 0.7808\n",
            "Epoch 20/100\n",
            "313/313 [==============================] - 13s 41ms/step - loss: 0.4529 - accuracy: 0.8010 - val_loss: 0.4742 - val_accuracy: 0.7832\n",
            "Epoch 21/100\n",
            "313/313 [==============================] - 13s 42ms/step - loss: 0.4475 - accuracy: 0.8031 - val_loss: 0.4733 - val_accuracy: 0.7834\n",
            "Epoch 22/100\n",
            "313/313 [==============================] - 13s 41ms/step - loss: 0.4429 - accuracy: 0.8048 - val_loss: 0.4693 - val_accuracy: 0.7834\n",
            "Epoch 23/100\n",
            "313/313 [==============================] - 13s 42ms/step - loss: 0.4387 - accuracy: 0.8072 - val_loss: 0.4642 - val_accuracy: 0.7860\n",
            "Epoch 24/100\n",
            "313/313 [==============================] - 13s 41ms/step - loss: 0.4350 - accuracy: 0.8092 - val_loss: 0.4642 - val_accuracy: 0.7840\n",
            "Epoch 25/100\n",
            "313/313 [==============================] - 14s 45ms/step - loss: 0.4315 - accuracy: 0.8098 - val_loss: 0.4603 - val_accuracy: 0.7862\n",
            "Epoch 26/100\n",
            "313/313 [==============================] - 13s 42ms/step - loss: 0.4283 - accuracy: 0.8110 - val_loss: 0.4606 - val_accuracy: 0.7884\n",
            "Epoch 27/100\n",
            "313/313 [==============================] - 13s 41ms/step - loss: 0.4260 - accuracy: 0.8125 - val_loss: 0.4581 - val_accuracy: 0.7878\n",
            "Epoch 28/100\n",
            "313/313 [==============================] - 13s 41ms/step - loss: 0.4231 - accuracy: 0.8144 - val_loss: 0.4594 - val_accuracy: 0.7878\n",
            "Epoch 29/100\n",
            "313/313 [==============================] - 13s 41ms/step - loss: 0.4210 - accuracy: 0.8149 - val_loss: 0.4550 - val_accuracy: 0.7880\n",
            "Epoch 30/100\n",
            "313/313 [==============================] - 13s 42ms/step - loss: 0.4191 - accuracy: 0.8158 - val_loss: 0.4544 - val_accuracy: 0.7898\n",
            "Epoch 31/100\n",
            "313/313 [==============================] - 13s 42ms/step - loss: 0.4170 - accuracy: 0.8156 - val_loss: 0.4554 - val_accuracy: 0.7876\n",
            "Epoch 32/100\n",
            "313/313 [==============================] - 13s 42ms/step - loss: 0.4156 - accuracy: 0.8149 - val_loss: 0.4551 - val_accuracy: 0.7896\n",
            "Epoch 33/100\n",
            "313/313 [==============================] - 13s 42ms/step - loss: 0.4139 - accuracy: 0.8174 - val_loss: 0.4539 - val_accuracy: 0.7896\n",
            "Epoch 34/100\n",
            "313/313 [==============================] - 13s 41ms/step - loss: 0.4120 - accuracy: 0.8180 - val_loss: 0.4525 - val_accuracy: 0.7882\n",
            "Epoch 35/100\n",
            "313/313 [==============================] - 14s 45ms/step - loss: 0.4112 - accuracy: 0.8178 - val_loss: 0.4548 - val_accuracy: 0.7886\n",
            "Epoch 36/100\n",
            "313/313 [==============================] - 13s 42ms/step - loss: 0.4094 - accuracy: 0.8197 - val_loss: 0.4538 - val_accuracy: 0.7898\n",
            "Epoch 37/100\n",
            "313/313 [==============================] - 13s 42ms/step - loss: 0.4083 - accuracy: 0.8198 - val_loss: 0.4535 - val_accuracy: 0.7906\n",
            "Epoch 38/100\n",
            "313/313 [==============================] - 13s 42ms/step - loss: 0.4070 - accuracy: 0.8184 - val_loss: 0.4580 - val_accuracy: 0.7862\n"
          ]
        }
      ]
    },
    {
      "cell_type": "code",
      "source": [
        "import matplotlib.pyplot as plt\n",
        "plt.plot(hy.history['accuracy'])\n",
        "plt.plot(hy.history['val_accuracy'])\n",
        "plt.legend(['acc','val_acc'])\n",
        "plt.show()"
      ],
      "metadata": {
        "colab": {
          "base_uri": "https://localhost:8080/",
          "height": 265
        },
        "id": "cZDEx4Jbe74-",
        "outputId": "b0b0c1cb-998c-4849-b5f6-7b3e3baa6749"
      },
      "execution_count": 14,
      "outputs": [
        {
          "output_type": "display_data",
          "data": {
            "text/plain": [
              "<Figure size 432x288 with 1 Axes>"
            ],
            "image/png": "[encoded data removed]"
          },
          "metadata": {
            "needs_background": "light"
          }
        }
      ]
    },
    {
      "cell_type": "code",
      "source": [
        "plt.plot(hy.history['loss'])\n",
        "plt.plot(hy.history['val_loss'])\n",
        "plt.legend(['loss','val_loss'])\n",
        "plt.show()"
      ],
      "metadata": {
        "colab": {
          "base_uri": "https://localhost:8080/",
          "height": 265
        },
        "id": "j7VajD-Ifk1u",
        "outputId": "c728c857-8b11-49a6-e649-b0e36aced549"
      },
      "execution_count": 15,
      "outputs": [
        {
          "output_type": "display_data",
          "data": {
            "text/plain": [
              "<Figure size 432x288 with 1 Axes>"
            ],
            "image/png": "[encoded data removed]"
          },
          "metadata": {
            "needs_background": "light"
          }
        }
      ]
    },
    {
      "cell_type": "code",
      "source": [
        "from keras.layers import SimpleRNN, Dense, Embedding\n",
        "\n",
        "m1=Sequential()\n",
        "m1.add(Embedding(500, 16, input_length=100)) #vacabrary의 수 500개의 단어를 16개 차원으로 만든다. 알아서 해줌\n",
        "m1.add(SimpleRNN(8)) #주요 단어 수도 같이 줘야함. 단어의 가짓수\n",
        "m1.add(Dense(1,activation = 'sigmoid'))\n",
        "m1.summary()"
      ],
      "metadata": {
        "colab": {
          "base_uri": "https://localhost:8080/"
        },
        "id": "PqSwoZ-Qk4VG",
        "outputId": "b568d52b-a35e-4923-edb6-b9988374335c"
      },
      "execution_count": 17,
      "outputs": [
        {
          "output_type": "stream",
          "name": "stdout",
          "text": [
            "Model: \"sequential_4\"\n",
            "_________________________________________________________________\n",
            " Layer (type)                Output Shape              Param #   \n",
            "=================================================================\n",
            " embedding (Embedding)       (None, 100, 16)           8000      \n",
            "                                                                 \n",
            " simple_rnn_3 (SimpleRNN)    (None, 8)                 200       \n",
            "                                                                 \n",
            " dense_3 (Dense)             (None, 1)                 9         \n",
            "                                                                 \n",
            "=================================================================\n",
            "Total params: 8,209\n",
            "Trainable params: 8,209\n",
            "Non-trainable params: 0\n",
            "_________________________________________________________________\n"
          ]
        }
      ]
    },
    {
      "cell_type": "code",
      "source": [
        "m1.compile(optimizer = RMSprop(learning_rate=0.0001),loss = 'binary_crossentropy', metrics=['accuracy'])\n",
        "es = EarlyStopping(patience = 3, restore_best_weights=True)\n",
        "ck = ModelCheckpoint('m.h5')\n",
        "hy1 = m1.fit(ck_t_x, t_y, validation_data = [ck_v_x, v_y], callbacks = [es, ck], batch_size=64, epochs=100)"
      ],
      "metadata": {
        "colab": {
          "base_uri": "https://localhost:8080/"
        },
        "id": "1G6FbBMAlfdG",
        "outputId": "f4138a68-3849-47ae-fba5-b96be763d06e"
      },
      "execution_count": 18,
      "outputs": [
        {
          "output_type": "stream",
          "name": "stdout",
          "text": [
            "Epoch 1/100\n",
            "313/313 [==============================] - 9s 24ms/step - loss: 0.6858 - accuracy: 0.5503 - val_loss: 0.6691 - val_accuracy: 0.5992\n",
            "Epoch 2/100\n",
            "313/313 [==============================] - 7s 23ms/step - loss: 0.6433 - accuracy: 0.6617 - val_loss: 0.6366 - val_accuracy: 0.6622\n",
            "Epoch 3/100\n",
            "313/313 [==============================] - 7s 23ms/step - loss: 0.6116 - accuracy: 0.7085 - val_loss: 0.6088 - val_accuracy: 0.7028\n",
            "Epoch 4/100\n",
            "313/313 [==============================] - 7s 23ms/step - loss: 0.5869 - accuracy: 0.7309 - val_loss: 0.5862 - val_accuracy: 0.7260\n",
            "Epoch 5/100\n",
            "313/313 [==============================] - 7s 23ms/step - loss: 0.5652 - accuracy: 0.7472 - val_loss: 0.5735 - val_accuracy: 0.7292\n",
            "Epoch 6/100\n",
            "313/313 [==============================] - 7s 23ms/step - loss: 0.5456 - accuracy: 0.7606 - val_loss: 0.5532 - val_accuracy: 0.7464\n",
            "Epoch 7/100\n",
            "313/313 [==============================] - 7s 23ms/step - loss: 0.5284 - accuracy: 0.7704 - val_loss: 0.5405 - val_accuracy: 0.7504\n",
            "Epoch 8/100\n",
            "313/313 [==============================] - 8s 25ms/step - loss: 0.5121 - accuracy: 0.7773 - val_loss: 0.5255 - val_accuracy: 0.7596\n",
            "Epoch 9/100\n",
            "313/313 [==============================] - 8s 25ms/step - loss: 0.4976 - accuracy: 0.7855 - val_loss: 0.5147 - val_accuracy: 0.7614\n",
            "Epoch 10/100\n",
            "313/313 [==============================] - 7s 23ms/step - loss: 0.4847 - accuracy: 0.7934 - val_loss: 0.5056 - val_accuracy: 0.7680\n",
            "Epoch 11/100\n",
            "313/313 [==============================] - 7s 23ms/step - loss: 0.4735 - accuracy: 0.7971 - val_loss: 0.4962 - val_accuracy: 0.7690\n",
            "Epoch 12/100\n",
            "313/313 [==============================] - 7s 23ms/step - loss: 0.4639 - accuracy: 0.8026 - val_loss: 0.4891 - val_accuracy: 0.7744\n",
            "Epoch 13/100\n",
            "313/313 [==============================] - 8s 27ms/step - loss: 0.4547 - accuracy: 0.8069 - val_loss: 0.4832 - val_accuracy: 0.7750\n",
            "Epoch 14/100\n",
            "313/313 [==============================] - 7s 23ms/step - loss: 0.4464 - accuracy: 0.8092 - val_loss: 0.4818 - val_accuracy: 0.7748\n",
            "Epoch 15/100\n",
            "313/313 [==============================] - 7s 23ms/step - loss: 0.4396 - accuracy: 0.8116 - val_loss: 0.4743 - val_accuracy: 0.7764\n",
            "Epoch 16/100\n",
            "313/313 [==============================] - 7s 23ms/step - loss: 0.4327 - accuracy: 0.8134 - val_loss: 0.4705 - val_accuracy: 0.7822\n",
            "Epoch 17/100\n",
            "313/313 [==============================] - 7s 23ms/step - loss: 0.4276 - accuracy: 0.8149 - val_loss: 0.4714 - val_accuracy: 0.7800\n",
            "Epoch 18/100\n",
            "313/313 [==============================] - 7s 23ms/step - loss: 0.4225 - accuracy: 0.8167 - val_loss: 0.4672 - val_accuracy: 0.7818\n",
            "Epoch 19/100\n",
            "313/313 [==============================] - 8s 27ms/step - loss: 0.4175 - accuracy: 0.8192 - val_loss: 0.4639 - val_accuracy: 0.7854\n",
            "Epoch 20/100\n",
            "313/313 [==============================] - 8s 27ms/step - loss: 0.4136 - accuracy: 0.8221 - val_loss: 0.4612 - val_accuracy: 0.7864\n",
            "Epoch 21/100\n",
            "313/313 [==============================] - 8s 27ms/step - loss: 0.4106 - accuracy: 0.8224 - val_loss: 0.4602 - val_accuracy: 0.7900\n",
            "Epoch 22/100\n",
            "313/313 [==============================] - 11s 36ms/step - loss: 0.4069 - accuracy: 0.8242 - val_loss: 0.4706 - val_accuracy: 0.7808\n",
            "Epoch 23/100\n",
            "313/313 [==============================] - 10s 32ms/step - loss: 0.4038 - accuracy: 0.8267 - val_loss: 0.4607 - val_accuracy: 0.7848\n",
            "Epoch 24/100\n",
            "313/313 [==============================] - 7s 24ms/step - loss: 0.4009 - accuracy: 0.8270 - val_loss: 0.4625 - val_accuracy: 0.7856\n"
          ]
        }
      ]
    },
    {
      "cell_type": "code",
      "source": [
        "plt.plot(hy1.history['accuracy'])\n",
        "plt.plot(hy1.history['val_accuracy'])\n",
        "plt.legend(['acc','val_acc'])\n",
        "plt.show()"
      ],
      "metadata": {
        "colab": {
          "base_uri": "https://localhost:8080/",
          "height": 265
        },
        "id": "lEfB59tWm3He",
        "outputId": "8a33b03a-6935-4fe1-f605-01b0c801b132"
      },
      "execution_count": 19,
      "outputs": [
        {
          "output_type": "display_data",
          "data": {
            "text/plain": [
              "<Figure size 432x288 with 1 Axes>"
            ],
            "image/png": "[encoded data removed]"
          },
          "metadata": {
            "needs_background": "light"
          }
        }
      ]
    },
    {
      "cell_type": "code",
      "source": [
        "plt.plot(hy1.history['loss'])\n",
        "plt.plot(hy1.history['val_loss'])\n",
        "plt.legend(['loss','val_loss'])\n",
        "plt.show()"
      ],
      "metadata": {
        "colab": {
          "base_uri": "https://localhost:8080/",
          "height": 269
        },
        "id": "-i7Cwx_2m5Jv",
        "outputId": "2d75a763-9056-4d0e-f12a-e9f7ac7774c2"
      },
      "execution_count": 20,
      "outputs": [
        {
          "output_type": "display_data",
          "data": {
            "text/plain": [
              "<Figure size 432x288 with 1 Axes>"
            ],
            "image/png": "[encoded data removed]"
          },
          "metadata": {
            "needs_background": "light"
          }
        }
      ]
    },
    {
      "cell_type": "code",
      "source": [
        ""
      ],
      "metadata": {
        "id": "jJboSYxgzRw8"
      },
      "execution_count": null,
      "outputs": []
    }
  ]
}