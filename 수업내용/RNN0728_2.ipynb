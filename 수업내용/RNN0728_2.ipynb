{
  "nbformat": 4,
  "nbformat_minor": 0,
  "metadata": {
    "colab": {
      "name": "RNN0728-2.ipynb",
      "provenance": [],
      "collapsed_sections": []
    },
    "kernelspec": {
      "name": "python3",
      "display_name": "Python 3"
    },
    "language_info": {
      "name": "python"
    }
  },
  "cells": [
    {
      "cell_type": "code",
      "execution_count": 1,
      "metadata": {
        "id": "DoszwsCgzYOn"
      },
      "outputs": [],
      "source": [
        "from keras.datasets import imdb #리뷰 데이터\n",
        "(X_data, y_data),(tt_x, tt_y)=imdb.load_data(num_words = 500)\n",
        "#가장 많이 등장한 500종의 단어만 남기려는 parameter\n",
        "#그러다 비어있는 데이터가 등장할 수도 있다."
      ]
    },
    {
      "cell_type": "code",
      "source": [
        "from sklearn.model_selection import train_test_split\n",
        "t_x, v_x, t_y, v_y=train_test_split(X_data, y_data, test_size = 0.2, random_state = 42)"
      ],
      "metadata": {
        "id": "G74tNtYgzflo"
      },
      "execution_count": 2,
      "outputs": []
    },
    {
      "cell_type": "code",
      "source": [
        "from keras.preprocessing.sequence import pad_sequences #원하는 사이즈로 자르는 도구\n",
        "#기본값이 max padding\n",
        "#각 원소가 가장 긴 길이를 가진 원소만큼의 길이로 원소를 가짐. 비어있는 부분은 0으로\n",
        "#보통 뒤쪽의 데이터가 더 중요하다고 생각하므로(보통의 문장들이 미괄식.) 뒤쪽 데이터를 살리는 방향으로 데이터를 자르거나 늘린다\n",
        "ck_t_x = pad_sequences(t_x, maxlen=100)\n",
        "ck_v_x = pad_sequences(v_x, maxlen=100)"
      ],
      "metadata": {
        "id": "Tk7ugL1TzhGY"
      },
      "execution_count": 3,
      "outputs": []
    },
    {
      "cell_type": "code",
      "source": [
        "from keras import Sequential\n",
        "from keras.layers import SimpleRNN, Dense, Embedding, LSTM\n",
        "from tensorflow.keras.optimizers import SGD, RMSprop, Adam\n",
        "from tensorflow.keras.callbacks import EarlyStopping, ModelCheckpoint\n",
        "\n",
        "m=Sequential()\n",
        "m.add(Embedding(500, 16, input_length=100)) #vacabrary의 수 500개의 단어를 16개 차원으로 만든다. 알아서 해줌\n",
        "m.add(LSTM(8)) \n",
        "m.add(Dense(1,activation = 'sigmoid'))\n",
        "m.summary()"
      ],
      "metadata": {
        "colab": {
          "base_uri": "https://localhost:8080/"
        },
        "id": "AwBUsL6hzkMW",
        "outputId": "5b59e1e6-e94d-49e9-ee8e-4675a58dc0ff"
      },
      "execution_count": 4,
      "outputs": [
        {
          "output_type": "stream",
          "name": "stdout",
          "text": [
            "Model: \"sequential\"\n",
            "_________________________________________________________________\n",
            " Layer (type)                Output Shape              Param #   \n",
            "=================================================================\n",
            " embedding (Embedding)       (None, 100, 16)           8000      \n",
            "                                                                 \n",
            " lstm (LSTM)                 (None, 8)                 800       \n",
            "                                                                 \n",
            " dense (Dense)               (None, 1)                 9         \n",
            "                                                                 \n",
            "=================================================================\n",
            "Total params: 8,809\n",
            "Trainable params: 8,809\n",
            "Non-trainable params: 0\n",
            "_________________________________________________________________\n"
          ]
        }
      ]
    },
    {
      "cell_type": "code",
      "source": [
        "m.compile(loss = 'binary_crossentropy', metrics=['accuracy'])\n",
        "es = EarlyStopping(patience = 3, restore_best_weights=True)\n",
        "ck = ModelCheckpoint('m.h5')"
      ],
      "metadata": {
        "id": "F1E8wa4szmX-"
      },
      "execution_count": 5,
      "outputs": []
    },
    {
      "cell_type": "code",
      "source": [
        "hy = m.fit(ck_t_x, t_y, validation_data = [ck_v_x, v_y], callbacks = [es, ck], batch_size=64, epochs=100)"
      ],
      "metadata": {
        "colab": {
          "base_uri": "https://localhost:8080/"
        },
        "id": "kfId7nANzoPO",
        "outputId": "73f51487-1209-4856-8b67-eb138f17fad4"
      },
      "execution_count": 6,
      "outputs": [
        {
          "output_type": "stream",
          "name": "stdout",
          "text": [
            "Epoch 1/100\n",
            "313/313 [==============================] - 15s 42ms/step - loss: 0.5828 - accuracy: 0.6908 - val_loss: 0.5071 - val_accuracy: 0.7510\n",
            "Epoch 2/100\n",
            "313/313 [==============================] - 20s 64ms/step - loss: 0.4569 - accuracy: 0.7883 - val_loss: 0.4490 - val_accuracy: 0.7934\n",
            "Epoch 3/100\n",
            "313/313 [==============================] - 13s 41ms/step - loss: 0.4376 - accuracy: 0.7993 - val_loss: 0.4573 - val_accuracy: 0.7822\n",
            "Epoch 4/100\n",
            "313/313 [==============================] - 13s 41ms/step - loss: 0.4277 - accuracy: 0.8055 - val_loss: 0.4349 - val_accuracy: 0.8014\n",
            "Epoch 5/100\n",
            "313/313 [==============================] - 13s 43ms/step - loss: 0.4228 - accuracy: 0.8052 - val_loss: 0.4314 - val_accuracy: 0.8016\n",
            "Epoch 6/100\n",
            "313/313 [==============================] - 13s 40ms/step - loss: 0.4186 - accuracy: 0.8066 - val_loss: 0.4291 - val_accuracy: 0.7984\n",
            "Epoch 7/100\n",
            "313/313 [==============================] - 13s 40ms/step - loss: 0.4145 - accuracy: 0.8065 - val_loss: 0.4288 - val_accuracy: 0.8000\n",
            "Epoch 8/100\n",
            "313/313 [==============================] - 13s 40ms/step - loss: 0.4108 - accuracy: 0.8110 - val_loss: 0.4304 - val_accuracy: 0.8008\n",
            "Epoch 9/100\n",
            "313/313 [==============================] - 13s 40ms/step - loss: 0.4085 - accuracy: 0.8120 - val_loss: 0.4279 - val_accuracy: 0.8020\n",
            "Epoch 10/100\n",
            "313/313 [==============================] - 14s 44ms/step - loss: 0.4052 - accuracy: 0.8112 - val_loss: 0.4338 - val_accuracy: 0.8050\n",
            "Epoch 11/100\n",
            "313/313 [==============================] - 13s 40ms/step - loss: 0.4044 - accuracy: 0.8102 - val_loss: 0.4502 - val_accuracy: 0.7876\n",
            "Epoch 12/100\n",
            "313/313 [==============================] - 13s 40ms/step - loss: 0.4016 - accuracy: 0.8162 - val_loss: 0.4454 - val_accuracy: 0.7938\n"
          ]
        }
      ]
    },
    {
      "cell_type": "code",
      "source": [
        "import matplotlib.pyplot as plt\n",
        "plt.plot(hy.history['accuracy'])\n",
        "plt.plot(hy.history['val_accuracy'])\n",
        "plt.legend(['acc','val_acc'])\n",
        "plt.show()"
      ],
      "metadata": {
        "colab": {
          "base_uri": "https://localhost:8080/",
          "height": 266
        },
        "id": "MnCQHNII1OXf",
        "outputId": "8d1de260-3a21-48fd-fee0-7bde01418610"
      },
      "execution_count": 7,
      "outputs": [
        {
          "output_type": "display_data",
          "data": {
            "text/plain": [
              "<Figure size 432x288 with 1 Axes>"
            ],
            "image/png": "[encoded data removed]"
          },
          "metadata": {
            "needs_background": "light"
          }
        }
      ]
    },
    {
      "cell_type": "code",
      "source": [
        "plt.plot(hy.history['loss'])\n",
        "plt.plot(hy.history['val_loss'])\n",
        "plt.legend(['loss','val_loss'])\n",
        "plt.show()"
      ],
      "metadata": {
        "colab": {
          "base_uri": "https://localhost:8080/",
          "height": 265
        },
        "id": "ytM8VGB41P1u",
        "outputId": "63ceb8c2-39e5-4937-b64c-a901d867cd5a"
      },
      "execution_count": 8,
      "outputs": [
        {
          "output_type": "display_data",
          "data": {
            "text/plain": [
              "<Figure size 432x288 with 1 Axes>"
            ],
            "image/png": "[encoded data removed]"
          },
          "metadata": {
            "needs_background": "light"
          }
        }
      ]
    },
    {
      "cell_type": "code",
      "source": [
        "\n",
        "m1=Sequential()\n",
        "m1.add(Embedding(500, 16, input_length=100)) \n",
        "m1.add(LSTM(8,dropout=0.3)) \n",
        "m1.add(Dense(1,activation = 'sigmoid'))\n",
        "m1.compile(loss = 'binary_crossentropy', metrics=['accuracy'])\n",
        "es = EarlyStopping(patience = 3, restore_best_weights=True)\n",
        "ck = ModelCheckpoint('m.h5')\n",
        "m1.summary()\n"
      ],
      "metadata": {
        "colab": {
          "base_uri": "https://localhost:8080/"
        },
        "id": "y-sfavYP3uoq",
        "outputId": "837c1dd2-5d24-4175-8700-6e89f82f87a2"
      },
      "execution_count": 9,
      "outputs": [
        {
          "output_type": "stream",
          "name": "stdout",
          "text": [
            "Model: \"sequential_1\"\n",
            "_________________________________________________________________\n",
            " Layer (type)                Output Shape              Param #   \n",
            "=================================================================\n",
            " embedding_1 (Embedding)     (None, 100, 16)           8000      \n",
            "                                                                 \n",
            " lstm_1 (LSTM)               (None, 8)                 800       \n",
            "                                                                 \n",
            " dense_1 (Dense)             (None, 1)                 9         \n",
            "                                                                 \n",
            "=================================================================\n",
            "Total params: 8,809\n",
            "Trainable params: 8,809\n",
            "Non-trainable params: 0\n",
            "_________________________________________________________________\n"
          ]
        }
      ]
    },
    {
      "cell_type": "code",
      "source": [
        "hy1 = m1.fit(ck_t_x, t_y, validation_data = [ck_v_x, v_y], callbacks = [es, ck], batch_size=64, epochs=100)"
      ],
      "metadata": {
        "colab": {
          "base_uri": "https://localhost:8080/"
        },
        "id": "Jz761Qio3yWo",
        "outputId": "6cd524bd-2cf8-48ae-ff98-e0c3e83d73d2"
      },
      "execution_count": 10,
      "outputs": [
        {
          "output_type": "stream",
          "name": "stdout",
          "text": [
            "Epoch 1/100\n",
            "313/313 [==============================] - 23s 66ms/step - loss: 0.6322 - accuracy: 0.6669 - val_loss: 0.5618 - val_accuracy: 0.7484\n",
            "Epoch 2/100\n",
            "313/313 [==============================] - 15s 47ms/step - loss: 0.5112 - accuracy: 0.7702 - val_loss: 0.4577 - val_accuracy: 0.7950\n",
            "Epoch 3/100\n",
            "313/313 [==============================] - 14s 43ms/step - loss: 0.4533 - accuracy: 0.7921 - val_loss: 0.4440 - val_accuracy: 0.7954\n",
            "Epoch 4/100\n",
            "313/313 [==============================] - 14s 45ms/step - loss: 0.4346 - accuracy: 0.8006 - val_loss: 0.4296 - val_accuracy: 0.8050\n",
            "Epoch 5/100\n",
            "313/313 [==============================] - 14s 43ms/step - loss: 0.4270 - accuracy: 0.8052 - val_loss: 0.4260 - val_accuracy: 0.7996\n",
            "Epoch 6/100\n",
            "313/313 [==============================] - 14s 43ms/step - loss: 0.4237 - accuracy: 0.8036 - val_loss: 0.4363 - val_accuracy: 0.7962\n",
            "Epoch 7/100\n",
            "313/313 [==============================] - 14s 45ms/step - loss: 0.4214 - accuracy: 0.8055 - val_loss: 0.4236 - val_accuracy: 0.8028\n",
            "Epoch 8/100\n",
            "313/313 [==============================] - 13s 43ms/step - loss: 0.4178 - accuracy: 0.8053 - val_loss: 0.4383 - val_accuracy: 0.7986\n",
            "Epoch 9/100\n",
            "313/313 [==============================] - 13s 43ms/step - loss: 0.4133 - accuracy: 0.8110 - val_loss: 0.4290 - val_accuracy: 0.8052\n",
            "Epoch 10/100\n",
            "313/313 [==============================] - 13s 42ms/step - loss: 0.4121 - accuracy: 0.8105 - val_loss: 0.4240 - val_accuracy: 0.8076\n"
          ]
        }
      ]
    },
    {
      "cell_type": "code",
      "source": [
        "plt.plot(hy1.history['accuracy'])\n",
        "plt.plot(hy1.history['val_accuracy'])\n",
        "plt.legend(['acc','val_acc'])\n",
        "plt.show()"
      ],
      "metadata": {
        "colab": {
          "base_uri": "https://localhost:8080/",
          "height": 265
        },
        "id": "bzduFjtc4AVf",
        "outputId": "418a1be8-a480-4d90-9ea3-22667b97b530"
      },
      "execution_count": 11,
      "outputs": [
        {
          "output_type": "display_data",
          "data": {
            "text/plain": [
              "<Figure size 432x288 with 1 Axes>"
            ],
            "image/png": "[encoded data removed]"
          },
          "metadata": {
            "needs_background": "light"
          }
        }
      ]
    },
    {
      "cell_type": "code",
      "source": [
        "plt.plot(hy1.history['loss'])\n",
        "plt.plot(hy1.history['val_loss'])\n",
        "plt.legend(['loss','val_loss'])\n",
        "plt.show()"
      ],
      "metadata": {
        "colab": {
          "base_uri": "https://localhost:8080/",
          "height": 265
        },
        "id": "dGc8ahnw4BvQ",
        "outputId": "17c7ba4d-bb66-4bc4-8a41-44d9b162d364"
      },
      "execution_count": 12,
      "outputs": [
        {
          "output_type": "display_data",
          "data": {
            "text/plain": [
              "<Figure size 432x288 with 1 Axes>"
            ],
            "image/png": "[encoded data removed]"
          },
          "metadata": {
            "needs_background": "light"
          }
        }
      ]
    },
    {
      "cell_type": "code",
      "source": [
        "del m2"
      ],
      "metadata": {
        "id": "8f_CWql764oH"
      },
      "execution_count": 14,
      "outputs": []
    },
    {
      "cell_type": "code",
      "source": [
        "m2=Sequential()\n",
        "m2.add(Embedding(500, 16, input_length=100)) \n",
        "m2.add(LSTM(8,dropout=0.3, return_sequences=True))  #레이어를 지나온 값은 원래 시퀀스 값이 아니다. 그걸 다시 시퀀스로 바꿔주는 파라미터\n",
        "m2.add(LSTM(8,dropout=0.3))\n",
        "m2.add(Dense(1,activation = 'sigmoid'))\n",
        "m2.summary()"
      ],
      "metadata": {
        "colab": {
          "base_uri": "https://localhost:8080/"
        },
        "id": "k4l9j9Ai5W7A",
        "outputId": "28e5d0ea-743d-4bdb-a948-89300590b1cd"
      },
      "execution_count": 13,
      "outputs": [
        {
          "output_type": "stream",
          "name": "stdout",
          "text": [
            "Model: \"sequential_2\"\n",
            "_________________________________________________________________\n",
            " Layer (type)                Output Shape              Param #   \n",
            "=================================================================\n",
            " embedding_2 (Embedding)     (None, 100, 16)           8000      \n",
            "                                                                 \n",
            " lstm_2 (LSTM)               (None, 100, 8)            800       \n",
            "                                                                 \n",
            " lstm_3 (LSTM)               (None, 8)                 544       \n",
            "                                                                 \n",
            " dense_2 (Dense)             (None, 1)                 9         \n",
            "                                                                 \n",
            "=================================================================\n",
            "Total params: 9,353\n",
            "Trainable params: 9,353\n",
            "Non-trainable params: 0\n",
            "_________________________________________________________________\n"
          ]
        }
      ]
    },
    {
      "cell_type": "code",
      "source": [
        "es = EarlyStopping(patience = 3, restore_best_weights=True)\n",
        "ck = ModelCheckpoint('m.h5')\n",
        "m2.compile(loss = 'binary_crossentropy', metrics=['accuracy'])"
      ],
      "metadata": {
        "id": "NRNUeIY860XY"
      },
      "execution_count": null,
      "outputs": []
    },
    {
      "cell_type": "code",
      "source": [
        "hy2 = m2.fit(ck_t_x, t_y, validation_data = [ck_v_x, v_y], callbacks = [es, ck], batch_size=64, epochs=100)"
      ],
      "metadata": {
        "id": "HBshtA9G6hNZ"
      },
      "execution_count": null,
      "outputs": []
    },
    {
      "cell_type": "code",
      "source": [
        "from keras.layers import GRU\n",
        "m3=Sequential()\n",
        "m3.add(Embedding(500, 16, input_length=100)) \n",
        "m3.add(GRU(8,dropout=0.3, return_sequences=True))  #레이어를 지나온 값은 원래 시퀀스 값이 아니다. 그걸 다시 시퀀스로 바꿔주는 파라미터\n",
        "m3.add(GRU(8,dropout=0.3)) #일반적으로 LSTM과의 차이는 크게 없지만 보통 LSTM을 씀\n",
        "m3.add(Dense(1,activation = 'sigmoid'))\n",
        "m3.summary()"
      ],
      "metadata": {
        "id": "ds4iH0bb68eH"
      },
      "execution_count": null,
      "outputs": []
    }
  ]
}